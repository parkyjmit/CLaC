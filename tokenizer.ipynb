{
 "cells": [
  {
   "cell_type": "code",
   "execution_count": 2,
   "metadata": {},
   "outputs": [
    {
     "name": "stderr",
     "output_type": "stream",
     "text": [
      "/home/yj/anaconda3/envs/llamat/lib/python3.9/site-packages/tqdm/auto.py:21: TqdmWarning: IProgress not found. Please update jupyter and ipywidgets. See https://ipywidgets.readthedocs.io/en/stable/user_install.html\n",
      "  from .autonotebook import tqdm as notebook_tqdm\n"
     ]
    }
   ],
   "source": [
    "from data.datamodule import CLaMPDataModule\n",
    "from datasets import load_dataset\n",
    "from transformers.models.graphormer.collating_graphormer import preprocess_item, GraphormerDataCollator\n",
    "from transformers import AutoTokenizer"
   ]
  },
  {
   "cell_type": "code",
   "execution_count": 3,
   "metadata": {},
   "outputs": [],
   "source": [
    "dataset = load_dataset('parquet', data_files='/home/yj/PycharmProjects/MIT/CLaMP/jsons/mp_3d_2020_materials.parquet')\n"
   ]
  },
  {
   "cell_type": "code",
   "execution_count": 23,
   "metadata": {},
   "outputs": [],
   "source": [
    "import pandas as pd\n",
    "df = pd.read_parquet('/home/yj/PycharmProjects/MIT/CLaMP/jsons/mp_3d_2020_materials_graphs_gpt.parquet')\n",
    "df['text'] = df['gpt_text'] + df['gpt_explanation']\n",
    "df.to_parquet('/home/yj/PycharmProjects/MIT/CLaMP/jsons/mp_3d_2020_materials_graphs_gpt.parquet')"
   ]
  },
  {
   "cell_type": "code",
   "execution_count": 20,
   "metadata": {},
   "outputs": [],
   "source": [
    "import pandas as pd\n",
    "# df = pd.read_json('/home/yj/PycharmProjects/MIT/CLaMP/jsons/mp_3d_2020_materials.json')\n",
    "df.to_parquet('/home/yj/PycharmProjects/MIT/CLaMP/jsons/mp_3d_2020_materials.parquet')"
   ]
  },
  {
   "cell_type": "code",
   "execution_count": 22,
   "metadata": {},
   "outputs": [
    {
     "ename": "ValueError",
     "evalue": "setting an array element with a sequence.",
     "output_type": "error",
     "traceback": [
      "\u001b[0;31m---------------------------------------------------------------------------\u001b[0m",
      "\u001b[0;31mTypeError\u001b[0m                                 Traceback (most recent call last)",
      "\u001b[0;31mTypeError\u001b[0m: only length-1 arrays can be converted to Python scalars",
      "\nThe above exception was the direct cause of the following exception:\n",
      "\u001b[0;31mValueError\u001b[0m                                Traceback (most recent call last)",
      "Cell \u001b[0;32mIn[22], line 2\u001b[0m\n\u001b[1;32m      1\u001b[0m \u001b[39mfrom\u001b[39;00m \u001b[39mjarvis\u001b[39;00m\u001b[39m.\u001b[39;00m\u001b[39mcore\u001b[39;00m\u001b[39m.\u001b[39;00m\u001b[39matoms\u001b[39;00m \u001b[39mimport\u001b[39;00m Atoms\n\u001b[0;32m----> 2\u001b[0m Atoms\u001b[39m.\u001b[39;49mfrom_dict(df[\u001b[39m'\u001b[39;49m\u001b[39matoms\u001b[39;49m\u001b[39m'\u001b[39;49m][\u001b[39m0\u001b[39;49m])\n",
      "File \u001b[0;32m~/anaconda3/envs/llamat/lib/python3.9/site-packages/jarvis/core/atoms.py:793\u001b[0m, in \u001b[0;36mAtoms.from_dict\u001b[0;34m(self, d)\u001b[0m\n\u001b[1;32m    790\u001b[0m \u001b[39m@classmethod\u001b[39m\n\u001b[1;32m    791\u001b[0m \u001b[39mdef\u001b[39;00m \u001b[39mfrom_dict\u001b[39m(\u001b[39mself\u001b[39m, d\u001b[39m=\u001b[39m{}):\n\u001b[1;32m    792\u001b[0m \u001b[39m    \u001b[39m\u001b[39m\"\"\"Form atoms object from the dictionary.\"\"\"\u001b[39;00m\n\u001b[0;32m--> 793\u001b[0m     \u001b[39mreturn\u001b[39;00m Atoms(\n\u001b[1;32m    794\u001b[0m         lattice_mat\u001b[39m=\u001b[39;49md[\u001b[39m\"\u001b[39;49m\u001b[39mlattice_mat\u001b[39;49m\u001b[39m\"\u001b[39;49m],\n\u001b[1;32m    795\u001b[0m         elements\u001b[39m=\u001b[39;49md[\u001b[39m\"\u001b[39;49m\u001b[39melements\u001b[39;49m\u001b[39m\"\u001b[39;49m],\n\u001b[1;32m    796\u001b[0m         props\u001b[39m=\u001b[39;49md[\u001b[39m\"\u001b[39;49m\u001b[39mprops\u001b[39;49m\u001b[39m\"\u001b[39;49m],\n\u001b[1;32m    797\u001b[0m         coords\u001b[39m=\u001b[39;49md[\u001b[39m\"\u001b[39;49m\u001b[39mcoords\u001b[39;49m\u001b[39m\"\u001b[39;49m],\n\u001b[1;32m    798\u001b[0m         cartesian\u001b[39m=\u001b[39;49md[\u001b[39m\"\u001b[39;49m\u001b[39mcartesian\u001b[39;49m\u001b[39m\"\u001b[39;49m],\n\u001b[1;32m    799\u001b[0m     )\n",
      "File \u001b[0;32m~/anaconda3/envs/llamat/lib/python3.9/site-packages/jarvis/core/atoms.py:75\u001b[0m, in \u001b[0;36mAtoms.__init__\u001b[0;34m(self, lattice_mat, coords, elements, props, cartesian, show_props)\u001b[0m\n\u001b[1;32m     73\u001b[0m \u001b[39mself\u001b[39m\u001b[39m.\u001b[39mlattice_mat \u001b[39m=\u001b[39m np\u001b[39m.\u001b[39marray(lattice_mat)\n\u001b[1;32m     74\u001b[0m \u001b[39mself\u001b[39m\u001b[39m.\u001b[39mshow_props \u001b[39m=\u001b[39m show_props\n\u001b[0;32m---> 75\u001b[0m \u001b[39mself\u001b[39m\u001b[39m.\u001b[39mlattice \u001b[39m=\u001b[39m Lattice(lattice_mat)\n\u001b[1;32m     76\u001b[0m \u001b[39mself\u001b[39m\u001b[39m.\u001b[39mcoords \u001b[39m=\u001b[39m np\u001b[39m.\u001b[39marray(coords)\n\u001b[1;32m     77\u001b[0m \u001b[39mself\u001b[39m\u001b[39m.\u001b[39melements \u001b[39m=\u001b[39m elements\n",
      "File \u001b[0;32m~/anaconda3/envs/llamat/lib/python3.9/site-packages/jarvis/core/lattice.py:57\u001b[0m, in \u001b[0;36mLattice.__init__\u001b[0;34m(self, lattice_mat, round_off)\u001b[0m\n\u001b[1;32m     30\u001b[0m \u001b[39mdef\u001b[39;00m \u001b[39m__init__\u001b[39m(\u001b[39mself\u001b[39m, lattice_mat\u001b[39m=\u001b[39m\u001b[39mNone\u001b[39;00m, round_off\u001b[39m=\u001b[39m\u001b[39m5\u001b[39m):\n\u001b[1;32m     31\u001b[0m \u001b[39m    \u001b[39m\u001b[39m\"\"\"\u001b[39;00m\n\u001b[1;32m     32\u001b[0m \u001b[39m    Hold lattice parameter information.\u001b[39;00m\n\u001b[1;32m     33\u001b[0m \n\u001b[0;32m   (...)\u001b[0m\n\u001b[1;32m     55\u001b[0m \u001b[39m    [90.0, 90.0, 90.0]\u001b[39;00m\n\u001b[1;32m     56\u001b[0m \u001b[39m    \"\"\"\u001b[39;00m\n\u001b[0;32m---> 57\u001b[0m     tmp \u001b[39m=\u001b[39m np\u001b[39m.\u001b[39;49marray(lattice_mat, dtype\u001b[39m=\u001b[39;49m\u001b[39m\"\u001b[39;49m\u001b[39mfloat64\u001b[39;49m\u001b[39m\"\u001b[39;49m)\u001b[39m.\u001b[39mreshape((\u001b[39m3\u001b[39m, \u001b[39m3\u001b[39m))\n\u001b[1;32m     58\u001b[0m     \u001b[39mself\u001b[39m\u001b[39m.\u001b[39m_lat \u001b[39m=\u001b[39m np\u001b[39m.\u001b[39maround(tmp, decimals\u001b[39m=\u001b[39mround_off)\n\u001b[1;32m     59\u001b[0m     \u001b[39mself\u001b[39m\u001b[39m.\u001b[39m_inv_lat \u001b[39m=\u001b[39m \u001b[39mNone\u001b[39;00m\n",
      "\u001b[0;31mValueError\u001b[0m: setting an array element with a sequence."
     ]
    }
   ],
   "source": [
    "from jarvis.core.atoms import Atoms\n",
    "Atoms.from_dict(df['atoms'][0])\n"
   ]
  },
  {
   "cell_type": "code",
   "execution_count": 8,
   "metadata": {},
   "outputs": [
    {
     "name": "stdout",
     "output_type": "stream",
     "text": [
      "tensor([[ 1.1489, -1.4931,  0.4383, -1.3485, -1.6189],\n",
      "        [-2.3389, -0.9827,  1.3691, -0.0875,  0.2425],\n",
      "        [-0.1880,  0.5527,  0.8310,  1.3379, -1.6811],\n",
      "        [ 0.8298,  1.8151,  0.8688,  0.4391,  0.0744],\n",
      "        [-2.5931,  0.7871,  1.2203, -0.1033, -0.3461]])\n",
      "torch.Size([5, 5])\n",
      "torch.Size([5, 6]) tensor([[ 1.1489,    -inf, -1.4931,  0.4383, -1.3485, -1.6189],\n",
      "        [-0.9827, -2.3389,    -inf,  1.3691, -0.0875,  0.2425],\n",
      "        [ 0.8310, -0.1880,  0.5527,    -inf,  1.3379, -1.6811],\n",
      "        [ 0.4391,  0.8298,  1.8151,  0.8688,    -inf,  0.0744],\n",
      "        [-0.3461, -2.5931,  0.7871,  1.2203, -0.1033,    -inf]])\n",
      "tensor([[0, 3, 4, 2, 5, 1],\n",
      "        [3, 5, 4, 0, 1, 2],\n",
      "        [4, 0, 2, 1, 5, 3],\n",
      "        [2, 3, 1, 0, 5, 4],\n",
      "        [3, 2, 4, 0, 1, 5]])\n",
      "torch.Size([5]) tensor([0, 3, 1, 3, 3])\n"
     ]
    }
   ],
   "source": [
    "import torch\n",
    "gt_logits = torch.randn(5, 5)\n",
    "# gt_logits = torch.eye(5)\n",
    "print(gt_logits)\n",
    "self_mask = torch.eye(gt_logits.shape[0], device=gt_logits.device, dtype=torch.bool)\n",
    "print(self_mask.shape)\n",
    "comb_sim = torch.cat([gt_logits[self_mask][:,None], gt_logits.masked_fill(self_mask, -torch.inf)], dim=-1)\n",
    "print(comb_sim.shape, comb_sim)\n",
    "sim_argsort = comb_sim.argsort(dim=-1, descending=True).argmin(dim=-1)\n",
    "print(comb_sim.argsort(dim=-1, descending=True))\n",
    "print(sim_argsort.shape, sim_argsort)"
   ]
  },
  {
   "cell_type": "code",
   "execution_count": 9,
   "metadata": {},
   "outputs": [
    {
     "name": "stderr",
     "output_type": "stream",
     "text": [
      "/tmp/ipykernel_2005451/2052362676.py:2: FutureWarning: In the future `np.bool` will be defined as the corresponding NumPy scalar.\n",
      "  np.bool\n"
     ]
    },
    {
     "ename": "AttributeError",
     "evalue": "module 'numpy' has no attribute 'bool'.\n`np.bool` was a deprecated alias for the builtin `bool`. To avoid this error in existing code, use `bool` by itself. Doing this will not modify any behavior and is safe. If you specifically wanted the numpy scalar type, use `np.bool_` here.\nThe aliases was originally deprecated in NumPy 1.20; for more details and guidance see the original release note at:\n    https://numpy.org/devdocs/release/1.20.0-notes.html#deprecations",
     "output_type": "error",
     "traceback": [
      "\u001b[0;31m---------------------------------------------------------------------------\u001b[0m",
      "\u001b[0;31mAttributeError\u001b[0m                            Traceback (most recent call last)",
      "Cell \u001b[0;32mIn[9], line 2\u001b[0m\n\u001b[1;32m      1\u001b[0m \u001b[39mimport\u001b[39;00m \u001b[39mnumpy\u001b[39;00m \u001b[39mas\u001b[39;00m \u001b[39mnp\u001b[39;00m\n\u001b[0;32m----> 2\u001b[0m np\u001b[39m.\u001b[39;49mbool\n",
      "File \u001b[0;32m~/anaconda3/envs/llamat/lib/python3.9/site-packages/numpy/__init__.py:324\u001b[0m, in \u001b[0;36m__getattr__\u001b[0;34m(attr)\u001b[0m\n\u001b[1;32m    319\u001b[0m     warnings\u001b[39m.\u001b[39mwarn(\n\u001b[1;32m    320\u001b[0m         \u001b[39mf\u001b[39m\u001b[39m\"\u001b[39m\u001b[39mIn the future `np.\u001b[39m\u001b[39m{\u001b[39;00mattr\u001b[39m}\u001b[39;00m\u001b[39m` will be defined as the \u001b[39m\u001b[39m\"\u001b[39m\n\u001b[1;32m    321\u001b[0m         \u001b[39m\"\u001b[39m\u001b[39mcorresponding NumPy scalar.\u001b[39m\u001b[39m\"\u001b[39m, \u001b[39mFutureWarning\u001b[39;00m, stacklevel\u001b[39m=\u001b[39m\u001b[39m2\u001b[39m)\n\u001b[1;32m    323\u001b[0m \u001b[39mif\u001b[39;00m attr \u001b[39min\u001b[39;00m __former_attrs__:\n\u001b[0;32m--> 324\u001b[0m     \u001b[39mraise\u001b[39;00m \u001b[39mAttributeError\u001b[39;00m(__former_attrs__[attr])\n\u001b[1;32m    326\u001b[0m \u001b[39mif\u001b[39;00m attr \u001b[39m==\u001b[39m \u001b[39m'\u001b[39m\u001b[39mtesting\u001b[39m\u001b[39m'\u001b[39m:\n\u001b[1;32m    327\u001b[0m     \u001b[39mimport\u001b[39;00m \u001b[39mnumpy\u001b[39;00m\u001b[39m.\u001b[39;00m\u001b[39mtesting\u001b[39;00m \u001b[39mas\u001b[39;00m \u001b[39mtesting\u001b[39;00m\n",
      "\u001b[0;31mAttributeError\u001b[0m: module 'numpy' has no attribute 'bool'.\n`np.bool` was a deprecated alias for the builtin `bool`. To avoid this error in existing code, use `bool` by itself. Doing this will not modify any behavior and is safe. If you specifically wanted the numpy scalar type, use `np.bool_` here.\nThe aliases was originally deprecated in NumPy 1.20; for more details and guidance see the original release note at:\n    https://numpy.org/devdocs/release/1.20.0-notes.html#deprecations"
     ]
    }
   ],
   "source": [
    "import numpy as np\n",
    "np.bool"
   ]
  },
  {
   "cell_type": "code",
   "execution_count": 12,
   "metadata": {},
   "outputs": [],
   "source": [
    "import pandas as pd\n",
    "df = pd.read_parquet('/home/yj/PycharmProjects/MIT/CLaMP/jsons/mp_3d_2020_materials_graphs_gpt.parquet')\n",
    "df['y'] = df['y'].apply(lambda x: [0])\n",
    "df.to_parquet('/home/yj/PycharmProjects/MIT/CLaMP/jsons/mp_3d_2020_materials_graphs_gpt.parquet')"
   ]
  },
  {
   "cell_type": "code",
   "execution_count": 8,
   "metadata": {},
   "outputs": [],
   "source": [
    "from data.utils import jarvis_atoms2graph\n",
    "def preprocess_func(item):\n",
    "    entities = {}\n",
    "    entities['graph'] = jarvis_atoms2graph(item['atoms'])\n",
    "    return entities\n"
   ]
  },
  {
   "cell_type": "code",
   "execution_count": 9,
   "metadata": {},
   "outputs": [
    {
     "data": {
      "text/plain": [
       "{'abc': [7.833244, 7.833245, 7.83325],\n",
       " 'angles': [60.0, 60.0, 60.0],\n",
       " 'cartesian': False,\n",
       " 'coords': [[0.75, 0.75, 0.75],\n",
       "  [0.25, 0.25, 0.25],\n",
       "  [0.5, 0.5, 0.5],\n",
       "  [0.0, 0.0, 0.0],\n",
       "  [0.742702, 0.25729799999999997, 0.25729799999999997],\n",
       "  [0.25729799999999997, 0.25729799999999997, 0.742702],\n",
       "  [0.25729799999999997, 0.742702, 0.742702],\n",
       "  [0.25729799999999997, 0.742702, 0.25729799999999997],\n",
       "  [0.742702, 0.25729799999999997, 0.742702],\n",
       "  [0.742702, 0.742702, 0.25729799999999997]],\n",
       " 'elements': ['Cs', 'Cs', 'Cu', 'Sb', 'Br', 'Br', 'Br', 'Br', 'Br', 'Br'],\n",
       " 'lattice_mat': [[6.7837932604, 0.0, 3.916624865],\n",
       "  [2.2612644201, 6.3958216221, 3.916624865],\n",
       "  [0.0, 0.0, 7.83324973]],\n",
       " 'props': ['', '', '', '', '', '', '', '', '', '']}"
      ]
     },
     "execution_count": 9,
     "metadata": {},
     "output_type": "execute_result"
    }
   ],
   "source": [
    "dataset['train'][0]['atoms']"
   ]
  },
  {
   "cell_type": "code",
   "execution_count": 10,
   "metadata": {},
   "outputs": [
    {
     "name": "stderr",
     "output_type": "stream",
     "text": [
      "Map:   0%|          | 0/126335 [00:00<?, ? examples/s]"
     ]
    },
    {
     "name": "stderr",
     "output_type": "stream",
     "text": [
      "Map: 100%|██████████| 126335/126335 [50:11<00:00, 41.95 examples/s]  \n"
     ]
    },
    {
     "data": {
      "text/plain": [
       "Dataset({\n",
       "    features: ['atoms', 'space group symbol', 'crystal system', 'energy per atom', 'volume', 'formation energy per atom', 'pretty formula', 'energy above hull', 'band gap', 'density', 'total magnetization', 'oxide type', 'scintillation attenuation length', 'enthalpy per atom', 'gpt_text', 'gpt_explanation', 'reduced_formula', '__index_level_0__', 'graph'],\n",
       "    num_rows: 126335\n",
       "})"
      ]
     },
     "execution_count": 10,
     "metadata": {},
     "output_type": "execute_result"
    }
   ],
   "source": [
    "dataset['train'].map(preprocess_func, batched=False)"
   ]
  },
  {
   "cell_type": "code",
   "execution_count": 3,
   "metadata": {},
   "outputs": [
    {
     "data": {
      "text/plain": [
       "Dataset({\n",
       "    features: ['atoms', 'space group symbol', 'crystal system', 'energy per atom', 'volume', 'formation energy per atom', 'pretty formula', 'energy above hull', 'band gap', 'density', 'total magnetization', 'oxide type', 'scintillation attenuation length', 'enthalpy per atom', 'gpt_text', 'gpt_explanation', 'reduced_formula'],\n",
       "    num_rows: 1\n",
       "})"
      ]
     },
     "execution_count": 3,
     "metadata": {},
     "output_type": "execute_result"
    }
   ],
   "source": [
    "dataset['train']"
   ]
  },
  {
   "cell_type": "code",
   "execution_count": 15,
   "metadata": {},
   "outputs": [
    {
     "ename": "KeyError",
     "evalue": "'node_feat'",
     "output_type": "error",
     "traceback": [
      "\u001b[0;31m---------------------------------------------------------------------------\u001b[0m",
      "\u001b[0;31mKeyError\u001b[0m                                  Traceback (most recent call last)",
      "Cell \u001b[0;32mIn[15], line 1\u001b[0m\n\u001b[0;32m----> 1\u001b[0m dataset[\u001b[39m'\u001b[39;49m\u001b[39mtrain\u001b[39;49m\u001b[39m'\u001b[39;49m][\u001b[39m0\u001b[39;49m][\u001b[39m'\u001b[39;49m\u001b[39mnode_feat\u001b[39;49m\u001b[39m'\u001b[39;49m]\n",
      "\u001b[0;31mKeyError\u001b[0m: 'node_feat'"
     ]
    }
   ],
   "source": [
    "dataset['train'][0]['node_feat']"
   ]
  },
  {
   "cell_type": "code",
   "execution_count": 11,
   "metadata": {},
   "outputs": [
    {
     "data": {
      "text/plain": [
       "103"
      ]
     },
     "execution_count": 11,
     "metadata": {},
     "output_type": "execute_result"
    }
   ],
   "source": [
    "from transformers import AutoTokenizer\n",
    "tokenizer = AutoTokenizer.from_pretrained('allenai/scibert_scivocab_cased')\n",
    "tokenizer.mask_token_id"
   ]
  },
  {
   "cell_type": "code",
   "execution_count": 10,
   "metadata": {},
   "outputs": [
    {
     "data": {
      "text/plain": [
       "torch.Size([1, 512])"
      ]
     },
     "execution_count": 10,
     "metadata": {},
     "output_type": "execute_result"
    }
   ],
   "source": [
    "tokenizer(dataset['train'][0]['gpt_text'], return_tensors='pt', padding='max_length', truncation=True)['input_ids'].shape"
   ]
  },
  {
   "cell_type": "code",
   "execution_count": null,
   "metadata": {},
   "outputs": [],
   "source": [
    "# LOAD하고 PREPROCESS단계에서 GRAPH제작 가능?"
   ]
  },
  {
   "cell_type": "code",
   "execution_count": 6,
   "metadata": {},
   "outputs": [],
   "source": [
    "import pandas as pd\n",
    "\n",
    "df = pd.read_json('/home/yj/PycharmProjects/MIT/CLaMP/jsons/mp_3d_2020_materials_graphs_gpt.json')\n",
    "df['y'] = 0\n",
    "df.to_parquet('/home/yj/PycharmProjects/MIT/CLaMP/jsons/mp_3d_2020_materials_graphs_gpt.parquet')"
   ]
  },
  {
   "cell_type": "code",
   "execution_count": 15,
   "metadata": {},
   "outputs": [
    {
     "data": {
      "text/plain": [
       "444"
      ]
     },
     "execution_count": 15,
     "metadata": {},
     "output_type": "execute_result"
    }
   ],
   "source": [
    "df['num_nodes'].max()"
   ]
  },
  {
   "cell_type": "code",
   "execution_count": 13,
   "metadata": {},
   "outputs": [
    {
     "data": {
      "text/html": [
       "<div>\n",
       "<style scoped>\n",
       "    .dataframe tbody tr th:only-of-type {\n",
       "        vertical-align: middle;\n",
       "    }\n",
       "\n",
       "    .dataframe tbody tr th {\n",
       "        vertical-align: top;\n",
       "    }\n",
       "\n",
       "    .dataframe thead th {\n",
       "        text-align: right;\n",
       "    }\n",
       "</style>\n",
       "<table border=\"1\" class=\"dataframe\">\n",
       "  <thead>\n",
       "    <tr style=\"text-align: right;\">\n",
       "      <th></th>\n",
       "      <th>atoms</th>\n",
       "      <th>space group symbol</th>\n",
       "      <th>crystal system</th>\n",
       "      <th>energy per atom</th>\n",
       "      <th>volume</th>\n",
       "      <th>formation energy per atom</th>\n",
       "      <th>pretty formula</th>\n",
       "      <th>energy above hull</th>\n",
       "      <th>band gap</th>\n",
       "      <th>density</th>\n",
       "      <th>...</th>\n",
       "      <th>scintillation attenuation length</th>\n",
       "      <th>enthalpy per atom</th>\n",
       "      <th>gpt_text</th>\n",
       "      <th>gpt_explanation</th>\n",
       "      <th>reduced_formula</th>\n",
       "      <th>edge_index</th>\n",
       "      <th>edge_attr</th>\n",
       "      <th>num_nodes</th>\n",
       "      <th>node_feat</th>\n",
       "      <th>y</th>\n",
       "    </tr>\n",
       "  </thead>\n",
       "  <tbody>\n",
       "    <tr>\n",
       "      <th>0</th>\n",
       "      <td>{'lattice_mat': [[6.7837932604, 0.0, 3.9166248...</td>\n",
       "      <td>Fm-3m</td>\n",
       "      <td>cubic</td>\n",
       "      <td>-3.026985</td>\n",
       "      <td>339.868503</td>\n",
       "      <td>-1.042928</td>\n",
       "      <td>Cs2CuSbBr6</td>\n",
       "      <td>0.037415</td>\n",
       "      <td>0.4582</td>\n",
       "      <td>4.546463</td>\n",
       "      <td>...</td>\n",
       "      <td>2.649453</td>\n",
       "      <td>-3.037248</td>\n",
       "      <td>Cs2CuSbBr6 is a cubic crystalline material wit...</td>\n",
       "      <td>Cs2CuSbBr6 has a band gap of 0.4582 units, whi...</td>\n",
       "      <td>Cs2CuSbBr6</td>\n",
       "      <td>[[0, 6, 0, 6, 0, 8, 0, 8, 0, 5, 0, 5, 0, 7, 0,...</td>\n",
       "      <td>[[3.4249005318, -0.0466766953, 1.9011429548], ...</td>\n",
       "      <td>10</td>\n",
       "      <td>[[55.0], [55.0], [29.0], [51.0], [35.0], [35.0...</td>\n",
       "      <td>0</td>\n",
       "    </tr>\n",
       "    <tr>\n",
       "      <th>1</th>\n",
       "      <td>{'lattice_mat': [[2.930707, 0.0, 1.794540473e-...</td>\n",
       "      <td>Pm-3m</td>\n",
       "      <td>cubic</td>\n",
       "      <td>-5.957301</td>\n",
       "      <td>25.171970</td>\n",
       "      <td>-0.140069</td>\n",
       "      <td>TiBe</td>\n",
       "      <td>0.005377</td>\n",
       "      <td>0.0000</td>\n",
       "      <td>3.752194</td>\n",
       "      <td>...</td>\n",
       "      <td>3.392792</td>\n",
       "      <td>-5.972252</td>\n",
       "      <td>The substance with the database entry listed a...</td>\n",
       "      <td>Possible applications of this material include...</td>\n",
       "      <td>TiBe</td>\n",
       "      <td>[[0, 1, 0, 1, 0, 1, 0, 1, 0, 1, 0, 1, 0, 1, 0,...</td>\n",
       "      <td>[[1.4653550386, -1.4653550386, 1.4653550386], ...</td>\n",
       "      <td>2</td>\n",
       "      <td>[[22.0], [4.0]]</td>\n",
       "      <td>0</td>\n",
       "    </tr>\n",
       "    <tr>\n",
       "      <th>2</th>\n",
       "      <td>{'lattice_mat': [[4.102914, 0.0, 2.512310249e-...</td>\n",
       "      <td>Pnma</td>\n",
       "      <td>orthorhombic</td>\n",
       "      <td>-5.629226</td>\n",
       "      <td>152.998194</td>\n",
       "      <td>-0.501786</td>\n",
       "      <td>TmNi</td>\n",
       "      <td>0.000000</td>\n",
       "      <td>0.0000</td>\n",
       "      <td>9.882065</td>\n",
       "      <td>...</td>\n",
       "      <td>1.256031</td>\n",
       "      <td>-6.215814</td>\n",
       "      <td>The substance is a crystalline material with a...</td>\n",
       "      <td>Based on the properties described, TmNi can ha...</td>\n",
       "      <td>TmNi</td>\n",
       "      <td>[[0, 4, 0, 4, 0, 6, 0, 6, 0, 5, 0, 5, 0, 7, 0,...</td>\n",
       "      <td>[[0.0, 2.6543180942999998, -0.9924864769], [0....</td>\n",
       "      <td>8</td>\n",
       "      <td>[[69.0], [69.0], [69.0], [69.0], [28.0], [28.0...</td>\n",
       "      <td>0</td>\n",
       "    </tr>\n",
       "    <tr>\n",
       "      <th>3</th>\n",
       "      <td>{'lattice_mat': [[3.0181361211, 0.0, -0.274264...</td>\n",
       "      <td>P1</td>\n",
       "      <td>triclinic</td>\n",
       "      <td>-5.817627</td>\n",
       "      <td>218.729028</td>\n",
       "      <td>-1.860331</td>\n",
       "      <td>Li7Mn2(CoO4)3</td>\n",
       "      <td>0.127803</td>\n",
       "      <td>0.2377</td>\n",
       "      <td>4.002799</td>\n",
       "      <td>...</td>\n",
       "      <td>3.078713</td>\n",
       "      <td>-5.301644</td>\n",
       "      <td>The substance is a solid material with the che...</td>\n",
       "      <td>The substance Li7Mn2(CoO4)3 has properties tha...</td>\n",
       "      <td>Li7Mn2Co3O12</td>\n",
       "      <td>[[0, 18, 0, 18, 0, 23, 0, 12, 0, 12, 0, 14, 0,...</td>\n",
       "      <td>[[1.5338112116, -0.17545863990000002, 1.318739...</td>\n",
       "      <td>24</td>\n",
       "      <td>[[3.0], [3.0], [3.0], [3.0], [3.0], [3.0], [3....</td>\n",
       "      <td>0</td>\n",
       "    </tr>\n",
       "    <tr>\n",
       "      <th>4</th>\n",
       "      <td>{'lattice_mat': [[7.3699197836, 0.0, 4.0552700...</td>\n",
       "      <td>R3</td>\n",
       "      <td>trigonal</td>\n",
       "      <td>-6.749444</td>\n",
       "      <td>432.054775</td>\n",
       "      <td>-2.047105</td>\n",
       "      <td>Mn3CoNi2(PO4)6</td>\n",
       "      <td>0.199451</td>\n",
       "      <td>0.0000</td>\n",
       "      <td>3.501150</td>\n",
       "      <td>...</td>\n",
       "      <td>3.508956</td>\n",
       "      <td>-6.156460</td>\n",
       "      <td>The substance with the pretty formula Mn3CoNi2...</td>\n",
       "      <td>It is challenging to provide specific applicat...</td>\n",
       "      <td>Mn3CoNi2P6O24</td>\n",
       "      <td>[[0, 23, 0, 31, 0, 20, 0, 14, 0, 25, 0, 18, 0,...</td>\n",
       "      <td>[[-0.5349786878, 1.6836606264, 0.7573206425], ...</td>\n",
       "      <td>36</td>\n",
       "      <td>[[25.0], [25.0], [25.0], [27.0], [28.0], [28.0...</td>\n",
       "      <td>0</td>\n",
       "    </tr>\n",
       "    <tr>\n",
       "      <th>...</th>\n",
       "      <td>...</td>\n",
       "      <td>...</td>\n",
       "      <td>...</td>\n",
       "      <td>...</td>\n",
       "      <td>...</td>\n",
       "      <td>...</td>\n",
       "      <td>...</td>\n",
       "      <td>...</td>\n",
       "      <td>...</td>\n",
       "      <td>...</td>\n",
       "      <td>...</td>\n",
       "      <td>...</td>\n",
       "      <td>...</td>\n",
       "      <td>...</td>\n",
       "      <td>...</td>\n",
       "      <td>...</td>\n",
       "      <td>...</td>\n",
       "      <td>...</td>\n",
       "      <td>...</td>\n",
       "      <td>...</td>\n",
       "      <td>...</td>\n",
       "    </tr>\n",
       "    <tr>\n",
       "      <th>126330</th>\n",
       "      <td>{'lattice_mat': [[5.1795495, 0.0, 3.171559358e...</td>\n",
       "      <td>Cmcm</td>\n",
       "      <td>orthorhombic</td>\n",
       "      <td>-5.416528</td>\n",
       "      <td>238.120897</td>\n",
       "      <td>-0.574610</td>\n",
       "      <td>Fe2O3</td>\n",
       "      <td>1.332748</td>\n",
       "      <td>0.0000</td>\n",
       "      <td>4.454351</td>\n",
       "      <td>...</td>\n",
       "      <td>2.478217</td>\n",
       "      <td>-6.654833</td>\n",
       "      <td>The substance in question is an orthorhombic m...</td>\n",
       "      <td>Based on the properties described, the materia...</td>\n",
       "      <td>Fe2O3</td>\n",
       "      <td>[[0, 11, 0, 15, 0, 15, 0, 14, 0, 9, 0, 9, 0, 0...</td>\n",
       "      <td>[[-1.0046907663, 0.3061338067, 1.5930907726], ...</td>\n",
       "      <td>20</td>\n",
       "      <td>[[26.0], [26.0], [26.0], [26.0], [26.0], [26.0...</td>\n",
       "      <td>0</td>\n",
       "    </tr>\n",
       "    <tr>\n",
       "      <th>126331</th>\n",
       "      <td>{'lattice_mat': [[7.7202419687, 0.0, 1.6693141...</td>\n",
       "      <td>C2</td>\n",
       "      <td>monoclinic</td>\n",
       "      <td>-6.171699</td>\n",
       "      <td>691.809324</td>\n",
       "      <td>-1.918218</td>\n",
       "      <td>Bi6P2O15</td>\n",
       "      <td>0.104265</td>\n",
       "      <td>0.0000</td>\n",
       "      <td>7.468825</td>\n",
       "      <td>...</td>\n",
       "      <td>0.971734</td>\n",
       "      <td>-5.502181</td>\n",
       "      <td>The material with the formula Bi6P2O15 has a c...</td>\n",
       "      <td>Bi6P2O15 is a type of bismuth-based phosphate ...</td>\n",
       "      <td>Bi6P2O15</td>\n",
       "      <td>[[0, 28, 0, 32, 0, 24, 0, 42, 0, 42, 0, 25, 0,...</td>\n",
       "      <td>[[-0.0793685019, 0.4460204244, -2.1458747387],...</td>\n",
       "      <td>46</td>\n",
       "      <td>[[83.0], [83.0], [83.0], [83.0], [83.0], [83.0...</td>\n",
       "      <td>0</td>\n",
       "    </tr>\n",
       "    <tr>\n",
       "      <th>126332</th>\n",
       "      <td>{'lattice_mat': [[5.2010253161, 0.0, 2.8640691...</td>\n",
       "      <td>C2/m</td>\n",
       "      <td>monoclinic</td>\n",
       "      <td>-6.199617</td>\n",
       "      <td>151.916594</td>\n",
       "      <td>-0.797180</td>\n",
       "      <td>Ca2CoN2</td>\n",
       "      <td>0.000000</td>\n",
       "      <td>0.0000</td>\n",
       "      <td>3.653062</td>\n",
       "      <td>...</td>\n",
       "      <td>3.490621</td>\n",
       "      <td>-5.337430</td>\n",
       "      <td>The material stored in the database has a comp...</td>\n",
       "      <td>Possible application areas for Ca2CoN2 materia...</td>\n",
       "      <td>Ca2CoN2</td>\n",
       "      <td>[[0, 8, 0, 6, 0, 6, 0, 7, 0, 9, 0, 5, 0, 4, 0,...</td>\n",
       "      <td>[[1.6311130524, 0.8820350766, -1.546333909], [...</td>\n",
       "      <td>10</td>\n",
       "      <td>[[20.0], [20.0], [20.0], [20.0], [27.0], [27.0...</td>\n",
       "      <td>0</td>\n",
       "    </tr>\n",
       "    <tr>\n",
       "      <th>126333</th>\n",
       "      <td>{'lattice_mat': [[5.634207, 0.0, 3.44995678400...</td>\n",
       "      <td>P2_1/c</td>\n",
       "      <td>monoclinic</td>\n",
       "      <td>-6.263142</td>\n",
       "      <td>235.009843</td>\n",
       "      <td>-2.022086</td>\n",
       "      <td>Ca2CuIrO6</td>\n",
       "      <td>0.000000</td>\n",
       "      <td>0.0000</td>\n",
       "      <td>6.103680</td>\n",
       "      <td>...</td>\n",
       "      <td>1.444930</td>\n",
       "      <td>-5.569069</td>\n",
       "      <td>The material with the ID number 126333 in the ...</td>\n",
       "      <td>Based on the properties of this material, ther...</td>\n",
       "      <td>Ca2CuIrO6</td>\n",
       "      <td>[[0, 14, 0, 14, 0, 9, 0, 10, 0, 19, 0, 12, 0, ...</td>\n",
       "      <td>[[-0.5328047276, -2.5645895004, -1.868786931],...</td>\n",
       "      <td>20</td>\n",
       "      <td>[[20.0], [20.0], [20.0], [20.0], [29.0], [29.0...</td>\n",
       "      <td>0</td>\n",
       "    </tr>\n",
       "    <tr>\n",
       "      <th>126334</th>\n",
       "      <td>{'lattice_mat': [[8.79866, 0.0, 5.387625403e-1...</td>\n",
       "      <td>P2_1/c</td>\n",
       "      <td>monoclinic</td>\n",
       "      <td>-5.769150</td>\n",
       "      <td>576.907479</td>\n",
       "      <td>-1.584384</td>\n",
       "      <td>ZnFeAs2O7</td>\n",
       "      <td>0.190650</td>\n",
       "      <td>1.1913</td>\n",
       "      <td>4.410696</td>\n",
       "      <td>...</td>\n",
       "      <td>2.777525</td>\n",
       "      <td>-5.545057</td>\n",
       "      <td>The substance stored in the database has the c...</td>\n",
       "      <td>Based on the given properties, this material h...</td>\n",
       "      <td>ZnFeAs2O7</td>\n",
       "      <td>[[0, 24, 0, 38, 0, 34, 0, 18, 0, 26, 0, 43, 0,...</td>\n",
       "      <td>[[-1.5442000627999999, -1.2499625683, -0.52057...</td>\n",
       "      <td>44</td>\n",
       "      <td>[[30.0], [30.0], [30.0], [30.0], [26.0], [26.0...</td>\n",
       "      <td>0</td>\n",
       "    </tr>\n",
       "  </tbody>\n",
       "</table>\n",
       "<p>126335 rows × 22 columns</p>\n",
       "</div>"
      ],
      "text/plain": [
       "                                                    atoms space group symbol  \\\n",
       "0       {'lattice_mat': [[6.7837932604, 0.0, 3.9166248...              Fm-3m   \n",
       "1       {'lattice_mat': [[2.930707, 0.0, 1.794540473e-...              Pm-3m   \n",
       "2       {'lattice_mat': [[4.102914, 0.0, 2.512310249e-...               Pnma   \n",
       "3       {'lattice_mat': [[3.0181361211, 0.0, -0.274264...                 P1   \n",
       "4       {'lattice_mat': [[7.3699197836, 0.0, 4.0552700...                 R3   \n",
       "...                                                   ...                ...   \n",
       "126330  {'lattice_mat': [[5.1795495, 0.0, 3.171559358e...               Cmcm   \n",
       "126331  {'lattice_mat': [[7.7202419687, 0.0, 1.6693141...                 C2   \n",
       "126332  {'lattice_mat': [[5.2010253161, 0.0, 2.8640691...               C2/m   \n",
       "126333  {'lattice_mat': [[5.634207, 0.0, 3.44995678400...             P2_1/c   \n",
       "126334  {'lattice_mat': [[8.79866, 0.0, 5.387625403e-1...             P2_1/c   \n",
       "\n",
       "       crystal system  energy per atom      volume  formation energy per atom  \\\n",
       "0               cubic        -3.026985  339.868503                  -1.042928   \n",
       "1               cubic        -5.957301   25.171970                  -0.140069   \n",
       "2        orthorhombic        -5.629226  152.998194                  -0.501786   \n",
       "3           triclinic        -5.817627  218.729028                  -1.860331   \n",
       "4            trigonal        -6.749444  432.054775                  -2.047105   \n",
       "...               ...              ...         ...                        ...   \n",
       "126330   orthorhombic        -5.416528  238.120897                  -0.574610   \n",
       "126331     monoclinic        -6.171699  691.809324                  -1.918218   \n",
       "126332     monoclinic        -6.199617  151.916594                  -0.797180   \n",
       "126333     monoclinic        -6.263142  235.009843                  -2.022086   \n",
       "126334     monoclinic        -5.769150  576.907479                  -1.584384   \n",
       "\n",
       "        pretty formula  energy above hull  band gap   density  ...  \\\n",
       "0           Cs2CuSbBr6           0.037415    0.4582  4.546463  ...   \n",
       "1                 TiBe           0.005377    0.0000  3.752194  ...   \n",
       "2                 TmNi           0.000000    0.0000  9.882065  ...   \n",
       "3        Li7Mn2(CoO4)3           0.127803    0.2377  4.002799  ...   \n",
       "4       Mn3CoNi2(PO4)6           0.199451    0.0000  3.501150  ...   \n",
       "...                ...                ...       ...       ...  ...   \n",
       "126330           Fe2O3           1.332748    0.0000  4.454351  ...   \n",
       "126331        Bi6P2O15           0.104265    0.0000  7.468825  ...   \n",
       "126332         Ca2CoN2           0.000000    0.0000  3.653062  ...   \n",
       "126333       Ca2CuIrO6           0.000000    0.0000  6.103680  ...   \n",
       "126334       ZnFeAs2O7           0.190650    1.1913  4.410696  ...   \n",
       "\n",
       "        scintillation attenuation length enthalpy per atom  \\\n",
       "0                               2.649453         -3.037248   \n",
       "1                               3.392792         -5.972252   \n",
       "2                               1.256031         -6.215814   \n",
       "3                               3.078713         -5.301644   \n",
       "4                               3.508956         -6.156460   \n",
       "...                                  ...               ...   \n",
       "126330                          2.478217         -6.654833   \n",
       "126331                          0.971734         -5.502181   \n",
       "126332                          3.490621         -5.337430   \n",
       "126333                          1.444930         -5.569069   \n",
       "126334                          2.777525         -5.545057   \n",
       "\n",
       "                                                 gpt_text  \\\n",
       "0       Cs2CuSbBr6 is a cubic crystalline material wit...   \n",
       "1       The substance with the database entry listed a...   \n",
       "2       The substance is a crystalline material with a...   \n",
       "3       The substance is a solid material with the che...   \n",
       "4       The substance with the pretty formula Mn3CoNi2...   \n",
       "...                                                   ...   \n",
       "126330  The substance in question is an orthorhombic m...   \n",
       "126331  The material with the formula Bi6P2O15 has a c...   \n",
       "126332  The material stored in the database has a comp...   \n",
       "126333  The material with the ID number 126333 in the ...   \n",
       "126334  The substance stored in the database has the c...   \n",
       "\n",
       "                                          gpt_explanation reduced_formula  \\\n",
       "0       Cs2CuSbBr6 has a band gap of 0.4582 units, whi...      Cs2CuSbBr6   \n",
       "1       Possible applications of this material include...            TiBe   \n",
       "2       Based on the properties described, TmNi can ha...            TmNi   \n",
       "3       The substance Li7Mn2(CoO4)3 has properties tha...    Li7Mn2Co3O12   \n",
       "4       It is challenging to provide specific applicat...   Mn3CoNi2P6O24   \n",
       "...                                                   ...             ...   \n",
       "126330  Based on the properties described, the materia...           Fe2O3   \n",
       "126331  Bi6P2O15 is a type of bismuth-based phosphate ...        Bi6P2O15   \n",
       "126332  Possible application areas for Ca2CoN2 materia...         Ca2CoN2   \n",
       "126333  Based on the properties of this material, ther...       Ca2CuIrO6   \n",
       "126334  Based on the given properties, this material h...       ZnFeAs2O7   \n",
       "\n",
       "                                               edge_index  \\\n",
       "0       [[0, 6, 0, 6, 0, 8, 0, 8, 0, 5, 0, 5, 0, 7, 0,...   \n",
       "1       [[0, 1, 0, 1, 0, 1, 0, 1, 0, 1, 0, 1, 0, 1, 0,...   \n",
       "2       [[0, 4, 0, 4, 0, 6, 0, 6, 0, 5, 0, 5, 0, 7, 0,...   \n",
       "3       [[0, 18, 0, 18, 0, 23, 0, 12, 0, 12, 0, 14, 0,...   \n",
       "4       [[0, 23, 0, 31, 0, 20, 0, 14, 0, 25, 0, 18, 0,...   \n",
       "...                                                   ...   \n",
       "126330  [[0, 11, 0, 15, 0, 15, 0, 14, 0, 9, 0, 9, 0, 0...   \n",
       "126331  [[0, 28, 0, 32, 0, 24, 0, 42, 0, 42, 0, 25, 0,...   \n",
       "126332  [[0, 8, 0, 6, 0, 6, 0, 7, 0, 9, 0, 5, 0, 4, 0,...   \n",
       "126333  [[0, 14, 0, 14, 0, 9, 0, 10, 0, 19, 0, 12, 0, ...   \n",
       "126334  [[0, 24, 0, 38, 0, 34, 0, 18, 0, 26, 0, 43, 0,...   \n",
       "\n",
       "                                                edge_attr num_nodes  \\\n",
       "0       [[3.4249005318, -0.0466766953, 1.9011429548], ...        10   \n",
       "1       [[1.4653550386, -1.4653550386, 1.4653550386], ...         2   \n",
       "2       [[0.0, 2.6543180942999998, -0.9924864769], [0....         8   \n",
       "3       [[1.5338112116, -0.17545863990000002, 1.318739...        24   \n",
       "4       [[-0.5349786878, 1.6836606264, 0.7573206425], ...        36   \n",
       "...                                                   ...       ...   \n",
       "126330  [[-1.0046907663, 0.3061338067, 1.5930907726], ...        20   \n",
       "126331  [[-0.0793685019, 0.4460204244, -2.1458747387],...        46   \n",
       "126332  [[1.6311130524, 0.8820350766, -1.546333909], [...        10   \n",
       "126333  [[-0.5328047276, -2.5645895004, -1.868786931],...        20   \n",
       "126334  [[-1.5442000627999999, -1.2499625683, -0.52057...        44   \n",
       "\n",
       "                                                node_feat  y  \n",
       "0       [[55.0], [55.0], [29.0], [51.0], [35.0], [35.0...  0  \n",
       "1                                         [[22.0], [4.0]]  0  \n",
       "2       [[69.0], [69.0], [69.0], [69.0], [28.0], [28.0...  0  \n",
       "3       [[3.0], [3.0], [3.0], [3.0], [3.0], [3.0], [3....  0  \n",
       "4       [[25.0], [25.0], [25.0], [27.0], [28.0], [28.0...  0  \n",
       "...                                                   ... ..  \n",
       "126330  [[26.0], [26.0], [26.0], [26.0], [26.0], [26.0...  0  \n",
       "126331  [[83.0], [83.0], [83.0], [83.0], [83.0], [83.0...  0  \n",
       "126332  [[20.0], [20.0], [20.0], [20.0], [27.0], [27.0...  0  \n",
       "126333  [[20.0], [20.0], [20.0], [20.0], [29.0], [29.0...  0  \n",
       "126334  [[30.0], [30.0], [30.0], [30.0], [26.0], [26.0...  0  \n",
       "\n",
       "[126335 rows x 22 columns]"
      ]
     },
     "execution_count": 13,
     "metadata": {},
     "output_type": "execute_result"
    }
   ],
   "source": [
    "df"
   ]
  },
  {
   "cell_type": "code",
   "execution_count": 8,
   "metadata": {},
   "outputs": [
    {
     "data": {
      "text/plain": [
       "'[CLS] cs2cusbbr6 has a band gap of 0. 4582 units, which classifies it as a semiconductor. this material can be used in different electrical applications, such as light - emitting diodes ( leds ), solar cells, and transistors. the semiconductor features of cs2cusbbr6 make it possible for it to be used as a light - emitting layer or as a buffer layer in leds. solar cells require a material with high efficiency in converting solar energy into electricity, and the unique properties of this material make it suitable for use as a semiconductor in solar cells. cs2cusbbr6 has a scintillation attenuation length of 2. 649453 units, which means that it can absorb and re - emit light. this property makes it an ideal material for radiation detectors and imaging applications. the material can also be used in radiation therapy and positron emission tomography ( pet ) imaging. finally, the stability and low formation energy per atom of cs2cusbbr6 make it a promising candidate for energy storage applications. the material has shown promising results in electrochemical energy storage, making it an excellent choice for batteries and capacitors. in summary, cs2cusbbr6, being a stable and suitable semiconductor with unique optical and electrical properties, has extensive potential applications in different fields such as electrical, optical, energy storage, and medical imaging applications. [SEP]'"
      ]
     },
     "execution_count": 8,
     "metadata": {},
     "output_type": "execute_result"
    }
   ],
   "source": [
    "# df['gpt_text'][0]\n",
    "encode = tokenizer(df['gpt_explanation'][0], return_tensors='pt')['input_ids']\n",
    "tokenizer.decode(encode[0])"
   ]
  },
  {
   "cell_type": "code",
   "execution_count": 9,
   "metadata": {},
   "outputs": [
    {
     "data": {
      "text/plain": [
       "(1381, 294)"
      ]
     },
     "execution_count": 9,
     "metadata": {},
     "output_type": "execute_result"
    }
   ],
   "source": [
    "len(df['gpt_explanation'][0]), len(encode[0])"
   ]
  },
  {
   "cell_type": "code",
   "execution_count": 11,
   "metadata": {},
   "outputs": [],
   "source": [
    "# shuffle dataframe \n",
    "df = df.sample(frac=0.01).reset_index(drop=True)\n",
    "df['length_exp'] = df['gpt_explanation'].apply(lambda x: len(tokenizer(x, return_tensors='pt')['input_ids'][0]))"
   ]
  },
  {
   "cell_type": "code",
   "execution_count": 13,
   "metadata": {},
   "outputs": [
    {
     "data": {
      "text/plain": [
       "count    1263.000000\n",
       "mean      232.212193\n",
       "std        56.179523\n",
       "min       141.000000\n",
       "25%       189.000000\n",
       "50%       217.000000\n",
       "75%       265.500000\n",
       "max       487.000000\n",
       "Name: length_txt, dtype: float64"
      ]
     },
     "execution_count": 13,
     "metadata": {},
     "output_type": "execute_result"
    }
   ],
   "source": [
    "df['length_txt'] = df['gpt_text'].apply(lambda x: len(tokenizer(x, return_tensors='pt')['input_ids'][0]))\n",
    "df['length_txt'].describe()"
   ]
  },
  {
   "cell_type": "code",
   "execution_count": 14,
   "metadata": {},
   "outputs": [
    {
     "data": {
      "text/plain": [
       "<Axes: >"
      ]
     },
     "execution_count": 14,
     "metadata": {},
     "output_type": "execute_result"
    },
    {
     "data": {
      "image/png": "[encoded data removed]",
      "text/plain": [
       "<Figure size 640x480 with 1 Axes>"
      ]
     },
     "metadata": {},
     "output_type": "display_data"
    }
   ],
   "source": [
    "df['length_txt'].hist()"
   ]
  },
  {
   "cell_type": "code",
   "execution_count": 15,
   "metadata": {},
   "outputs": [
    {
     "data": {
      "text/plain": [
       "<Axes: >"
      ]
     },
     "execution_count": 15,
     "metadata": {},
     "output_type": "execute_result"
    },
    {
     "data": {
      "image/png": "[encoded data removed]",
      "text/plain": [
       "<Figure size 640x480 with 1 Axes>"
      ]
     },
     "metadata": {},
     "output_type": "display_data"
    }
   ],
   "source": [
    "df['length_exp'].describe()\n",
    "df['length_exp'].hist()"
   ]
  },
  {
   "cell_type": "code",
   "execution_count": 16,
   "metadata": {},
   "outputs": [],
   "source": [
    "df['gpt'] = df['gpt_explanation'] + df['gpt_text']"
   ]
  },
  {
   "cell_type": "code",
   "execution_count": 17,
   "metadata": {},
   "outputs": [
    {
     "data": {
      "text/plain": [
       "count    1263.000000\n",
       "mean      516.660333\n",
       "std        79.137042\n",
       "min       250.000000\n",
       "25%       465.000000\n",
       "50%       511.000000\n",
       "75%       563.500000\n",
       "max       947.000000\n",
       "Name: length_gpt, dtype: float64"
      ]
     },
     "execution_count": 17,
     "metadata": {},
     "output_type": "execute_result"
    }
   ],
   "source": [
    "df['length_gpt'] = df['gpt'].apply(lambda x: len(tokenizer(x, return_tensors='pt')['input_ids'][0]))\n",
    "df['length_gpt'].describe()"
   ]
  },
  {
   "cell_type": "code",
   "execution_count": 18,
   "metadata": {},
   "outputs": [
    {
     "data": {
      "text/plain": [
       "<Axes: >"
      ]
     },
     "execution_count": 18,
     "metadata": {},
     "output_type": "execute_result"
    },
    {
     "data": {
      "image/png": "[encoded data removed]",
      "text/plain": [
       "<Figure size 640x480 with 1 Axes>"
      ]
     },
     "metadata": {},
     "output_type": "display_data"
    }
   ],
   "source": [
    "df['length_gpt'].hist()"
   ]
  },
  {
   "cell_type": "code",
   "execution_count": 30,
   "metadata": {},
   "outputs": [],
   "source": [
    "df = pd.read_json('/home/yj/PycharmProjects/MIT/CLaMP/mp_3d_2020_cif_papers_split_9.json')"
   ]
  },
  {
   "cell_type": "code",
   "execution_count": 32,
   "metadata": {},
   "outputs": [
    {
     "data": {
      "text/plain": [
       "479"
      ]
     },
     "execution_count": 32,
     "metadata": {},
     "output_type": "execute_result"
    }
   ],
   "source": [
    "len(tokenizer(df['paragraphs'][0][0][0], return_tensors='pt')['input_ids'][0])"
   ]
  },
  {
   "cell_type": "code",
   "execution_count": 38,
   "metadata": {},
   "outputs": [
    {
     "data": {
      "text/plain": [
       "'Dy2O3'"
      ]
     },
     "execution_count": 38,
     "metadata": {},
     "output_type": "execute_result"
    }
   ],
   "source": [
    "df['reduced_formula'][2]"
   ]
  },
  {
   "cell_type": "code",
   "execution_count": 42,
   "metadata": {},
   "outputs": [
    {
     "data": {
      "text/plain": [
       "['Columbite-tantalite is the most abundant Ta-Nb-oxide in the studied pegmatites and granites. About 15,000 electron microprobe and ca. 10,000 LA-ICP-MS datasets are evaluated here and demonstrate variations over two to four orders of magnitude for most trace elements. The crystal structure of the AB2O6 CGM is a derivative of the α-PbO2 structure with two distinct octahedral sites (4c and 8d); according to Shannon (1976), the valence and ionic radii of the major elements in the structure are Fe2 + (0.78 Å), Mn2 + (0.83 Å), Nb5 + (0.64 Å), and Ta5 + (0.64 Å). Although there is evidence for different valences for Nb and Ta in the crust (Martin and Wulser, 2014), it is likely that most of the Nb and Ta in CGM is in the pentavalent state. The following trace elements were investigated in this study, grouped according to their preferred, possible or assumed valence, and with their ionic radii in octahedral coordination (in Å): M1 + (Li 0.76; Rb 1.52); M2 + (Be 0.45; Mg 0.72; Ca 1.0; Sr 1.18; Pb 1.19; Ba 1.35); M3 + (Al 0.54; As 0.58; Sc 0.745; Sb 0.76; Y 0.9; REE 0.9-1.0; Bi 1.03); M4 + (Ti 0.605; Sn 0.69; Hf 0.71; Zr 0.72; U 0.89; Th 0.94); M5 + (As 0.46, Sb 0.6, Bi 0.76) and M6 + (Mo 0.59; W 0.6). Following the geochemical rules of Goldschmidt (1954), most of the elements listed are likely incorporated into the columbite structure by simple or heterovalent substitution. Lead is continuously produced by radioactive decay of U and Th. Unusually large ions such as Rb1 +, Sr2 +, Ba2 +, Bi3 +, U4 +, Th4 + and small ions such as Be2 +, Al3 + and As5 + should not be accommodated in the columbite structure (Fig. 15 ). The detection of such \"unlikely\" elements by EPMA and LA-ICP-MS might be explained by the accidental analysis of finely dispersed silicates in the analysed sample volume, e.g., introducing Al, Rb, Sr, Li and probably Be. Nevertheless, the absence of visible contaminants in μm-scale in most of the analysed grains, and correlations with major and minor elements, indicate that most of the elements plotting outside of the limits calculated from Goldschmidt\\'s rules, may be incorporated in the structure of columbite-tantalite in trace amounts. In some cases, metamictisation may have played a role because U and Th concentrations correlate with some of the \"forbidden\" elements, most notably with Bi. Martin and Wulser (2014) explained the unusual behaviour of CGM during heating - they reach an ordered state - by magmas containing mixed valences of Mn, Fe, Nb and Ta which makes a disordered distribution of octahedrally coordinated cations energetically more favourable. Due to their insolubility in aqueous solutions, CGM remain metastably \"frozen\" in a partly disordered state. This provides an additional mechanism explaining high concentrations of minor and trace elements in CGM and phases with related structures. Elements of different ionic radius and charge may more easily be accommodated in the highly disordered orthorhombic structure during crystallization; this structure tolerates divalent and trivalent Fe and Mn, as well as tetravalent and pentavalent Nb and Ta, and thus will offer more options for heterovalent substitution with minor and trace elements.Supplementary material S3 provides an overview on the distribution of major and trace elements in CGM based on a dataset of 22,786 single measurements by EPMA and ICP-MS from 45 Ta provinces (Fig. 1). In Fig. 16a, median, mean and range - bracketed by the P10, P25, P75 and P90 values - are presented for the complete dataset. The similar mean and median values of the major elements (Fe, Mn, Nb, Ta) indicate their normal distribution; however, trace elements are log-normally distributed, as indicated by a considerable deviation of median and mean values (e.g., Md x). The compositionally most important minor elements are Ti, W, Zr and Sn (Md > 1000 ppm), followed by U, Hf (100-500 ppm), Al, Mg, Pb (10-100 ppm), Sc, Li, Mo, Y, Th and Tl (1-10 ppm). The median concentrations of the REE, As, Sb, Bi and Sr are below 2 ppm; concentrations of Be, Rb and Ba in CGM are usually below the detection limit of the LA-ICP-MS method (Fig. 16a). In terms of maximum concentrations, the following values were encountered in the whole dataset (location in brackets): UO2 10 wt.% (Shabunda, Kibara Belt), WO3 6.3 wt.% (Damara, Namibia), ZrO2 2.9 wt.% (Jos, Nigeria), Hf 2.7 wt.% (Abu Dabbab, Egypt), Y 2.65 wt.% (Orlovka, Russia), Mg 2.6 wt.% (Upper Fir carbonatite), Sb 2.2 wt.% (Tanco), Pb 2 wt.% (Orlovka, Russia), Sc 1.9 wt.% (Marropino, Mozambique), Al 1.4 wt.% (Egypt), Ba 1.3 wt.% (Tanco), Sr 1.2 wt.% (Tanco), Bi 1 wt.% (Malkany, Russia), Th 0.76 wt.% (Malkany, Russia), As 1350 ppm (Greenbushes, Australia), Li 1320 ppm (Rutsiro, Rwanda), Rb 950 ppm (Taikeu, Russia), Be 600 ppm (Ruhanga, Rwanda), Mo 540 ppm (Jos, Nigeria), and Tl 235 ppm (Sao Joao del Rei, Brazil). The highest REE concentrations in CGM were measured at Jos, Nigeria (2734 ppm Ce), Sierra Leone (750 ppm La, 219 ppm Pr), Malkhany, Russia (1127 ppm Nd, 2728 ppm Sm, 5300 ppm Gd, 1044 ppm Tb, 4500 ppm Dy), Nkegete, Rwanda (131 ppm Eu), Orlovka, Russia (742 ppm Ho, 2378 ppm Er), and Abu Dabbab, Egypt (843 ppm Tm, 11,277 ppm Yb, 1486 ppm Lu). Some of the maximum concentrations listed above may have been affected by contamination with matrix or inclusion material, or be due to intergrowth with additional phases. The latter is difficult to exclude using LA-ICP-MS spot measurements of 50 μm diameter. TiO2 and SnO2 concentrations may reach several wt.%, but due to the problems of possible intergrowth with Ti- and Sn-rich Ta-Nb oxides (e.g., wodginite/ixiolite, Nb-Ta-bearing rutile), no maximum values are quoted. Considering these difficulties, the P90 values (Fig. 16a) should be used as approximations of the upper concentration levels in naturally occurring CGM.Supplementary material S3 provides an overview on the distribution of major and trace elements in CGM based on a dataset of 22,786 single measurements by EPMA and ICP-MS from 45 Ta provinces (Fig. 1). In Fig. 16a, median, mean and range - bracketed by the P10, P25, P75 and P90 values - are presented for the complete dataset. The similar mean and median values of the major elements (Fe, Mn, Nb, Ta) indicate their normal distribution; however, trace elements are log-normally distributed, as indicated by a considerable deviation of median and mean values (e.g., Md x). The compositionally most important minor elements are Ti, W, Zr and Sn (Md > 1000 ppm), followed by U, Hf (100-500 ppm), Al, Mg, Pb (10-100 ppm), Sc, Li, Mo, Y, Th and Tl (1-10 ppm). The median concentrations of the REE, As, Sb, Bi and Sr are below 2 ppm; concentrations of Be, Rb and Ba in CGM are usually below the detection limit of the LA-ICP-MS method (Fig. 16a). In terms of maximum concentrations, the following values were encountered in the whole dataset (location in brackets): UO2 10 wt.% (Shabunda, Kibara Belt), WO3 6.3 wt.% (Damara, Namibia), ZrO2 2.9 wt.% (Jos, Nigeria), Hf 2.7 wt.% (Abu Dabbab, Egypt), Y 2.65 wt.% (Orlovka, Russia), Mg 2.6 wt.% (Upper Fir carbonatite), Sb 2.2 wt.% (Tanco), Pb 2 wt.% (Orlovka, Russia), Sc 1.9 wt.% (Marropino, Mozambique), Al 1.4 wt.% (Egypt), Ba 1.3 wt.% (Tanco), Sr 1.2 wt.% (Tanco), Bi 1 wt.% (Malkany, Russia), Th 0.76 wt.% (Malkany, Russia), As 1350 ppm (Greenbushes, Australia), Li 1320 ppm (Rutsiro, Rwanda), Rb 950 ppm (Taikeu, Russia), Be 600 ppm (Ruhanga, Rwanda), Mo 540 ppm (Jos, Nigeria), and Tl 235 ppm (Sao Joao del Rei, Brazil). The highest REE concentrations in CGM were measured at Jos, Nigeria (2734 ppm Ce), Sierra Leone (750 ppm La, 219 ppm Pr), Malkhany, Russia (1127 ppm Nd, 2728 ppm Sm, 5300 ppm Gd, 1044 ppm Tb, 4500 ppm Dy), Nkegete, Rwanda (131 ppm Eu), Orlovka, Russia (742 ppm Ho, 2378 ppm Er), and Abu Dabbab, Egypt (843 ppm Tm, 11,277 ppm Yb, 1486 ppm Lu). Some of the maximum concentrations listed above may have been affected by contamination with matrix or inclusion material, or be due to intergrowth with additional phases. The latter is difficult to exclude using LA-ICP-MS spot measurements of 50 μm diameter. TiO2 and SnO2 concentrations may reach several wt.%, but due to the problems of possible intergrowth with Ti- and Sn-rich Ta-Nb oxides (e.g., wodginite/ixiolite, Nb-Ta-bearing rutile), no maximum values are quoted. Considering these difficulties, the P90 values (Fig. 16a) should be used as approximations of the upper concentration levels in naturally occurring CGM.To put the minor element concentrations in a context, other data considered as \"high\" or \"elevated\" found in the literature are quoted. Cerny et al. (2007), e.g., determined the highest concentrations of ZrO2 and HfO2 in a suite of samples from different pegmatites to 1.26 wt.% and 0.12 wt.%, respectively. The highest concentration of Sc encountered in a study by Wise et al. (1998) is 2.27 wt.% Sc2O3 (1.48 wt.% Sc) in a columbite-(Fe) from Luster, Colorado. The CGM in zone III of the Koktokay No. 1 pegmatite, China, are Mn-rich (#Mn = 98-99) and carry up to 1.68 wt.% ZrO2, 1.28 wt.% UO2, 0.73 wt.% HfO2, intermediate TiO2 (0.5-1 wt.%) and WO3 (0.3-0.8 wt.%), and low Sn and Sc (Yin et al., 2015). The high #Ta (> 0.6) of these CGM suggests that the minor elements are controlled by the composition of the pegmatite melt. Tungstenian columbite with up to 26.5 wt.% WO3 was described from Jos, Nigeria (Mucke and Neumann, 2006). The maximum TiO2 value found in the relevant literature is 8.78 wt.% in columbite-(Fe), McGuire pegmatite, South Platte District, Colorado (Cerny et al., 1999); for SnO2, 6.8 wt.% are reported from columbite-tantalite-(Mn) (Central Eastern Desert, Egypt; Jahn, 1996). Columbite-(Mn), often highly enriched in TiO2 (up to 5 wt.%), WO3 (up to 10 wt.%), Y2O3 (up to 2.45 wt.%) and REE (e.g., up to 1.92 wt.% Dy2O3 and 1.97 wt.% Yb2O3) at the 6.87 Ma old Fonte del Prete pegmatite, island of Elba (Italy), carries up to 2.71 wt.% UO2 (Aurisicchio et al., 2002). Concentrations of additional minor elements have only rarely been reported in the literature; from > 1000 analyses compiled, < 20% have reported values for MgO (maximum 1.72 wt.% from Vezna, Czech Republic; Cerny et al., 1998), ZrO2 (1.21 wt.% from the Muro Alto pegmatite, Portugal; Dias et al., 2009), HfO2 (0.12 wt.% from Quadeville, Canada; Cerny et al., 2007), As2O3 (0.06 wt.% from Scheibengraben, Czech Republic; Novak et al., 2003), Sb2O3 (0.8 wt.% from the Animikie Red Ace pegmatite, Wisconsin; Falster et al., 2001), Bi2O3 (1.0 wt.% from the Animikie Red Ace pegmatite, Wisconsin; Falster et al., 2001), ThO2 (0.47 wt.% from Separation Rapids, Canada; Tindle and Breaks, 1998), PbO (2.98 wt.% from Chvalovice, Czech Republic; Novak and Cerny, 1998), SrO (0.11 wt.% from Chvalovice, Czech Republic; Novak and Cerny, 1998), and ZnO (0.51 wt.% from Abu Rusheid, Egypt; Abdalla et al., 1998).About 1150 datasets of wodginite-ixiolite were also collected from 49 pegmatites in 18 provinces; 12 of them are located outside of Africa. The chemical composition of wodginite-ixiolite is highly variable (Supplementary material S4). Mn-Fe substitution is complete (Md #Mn = 66), whereas #Ta commonly ranges from 65 to 95 only. The SnO2 concentrations in phases classified as wodginite-ixiolite range from 0.1 to 33 wt.%, with an average and median of 12 wt.%. The concentrations of TiO2 (up to 21 wt.%; Md, 1.60 wt.%), WO3 (up to 10 wt.% in \"ordinary\" wodginite/ixiolite with a Md at 0.10 wt.%; up to 50 wt% in wolframixiolite from Nigeria, Melcher et al., 2015), ZrO2 (up to 10 wt.%; Md, 0.59 wt.%) and Hf (up to 8500 ppm; Md, 2300 ppm) are often significant, with average concentration levels commonly higher than in CGM and tapiolite (Fig. 16b). In all cases, Zr and Hf concentrations are higher in wodginite/ixiolite than in associated CGM, and Zr/Hf ratios are lower. Cerny et al. (2007) found up to 9.59 wt.% ZrO2 and 1.15 wt.% HfO2 in wodginite from pegmatites and also observed that Zr/Hf ratios in wodginite are lower (1 to 4) than in coexisting columbite-tantalite (6 to 13).About 1150 datasets of wodginite-ixiolite were also collected from 49 pegmatites in 18 provinces; 12 of them are located outside of Africa. The chemical composition of wodginite-ixiolite is highly variable (Supplementary material S4). Mn-Fe substitution is complete (Md #Mn = 66), whereas #Ta commonly ranges from 65 to 95 only. The SnO2 concentrations in phases classified as wodginite-ixiolite range from 0.1 to 33 wt.%, with an average and median of 12 wt.%. The concentrations of TiO2 (up to 21 wt.%; Md, 1.60 wt.%), WO3 (up to 10 wt.% in \"ordinary\" wodginite/ixiolite with a Md at 0.10 wt.%; up to 50 wt% in wolframixiolite from Nigeria, Melcher et al., 2015), ZrO2 (up to 10 wt.%; Md, 0.59 wt.%) and Hf (up to 8500 ppm; Md, 2300 ppm) are often significant, with average concentration levels commonly higher than in CGM and tapiolite (Fig. 16b). In all cases, Zr and Hf concentrations are higher in wodginite/ixiolite than in associated CGM, and Zr/Hf ratios are lower. Cerny et al. (2007) found up to 9.59 wt.% ZrO2 and 1.15 wt.% HfO2 in wodginite from pegmatites and also observed that Zr/Hf ratios in wodginite are lower (1 to 4) than in coexisting columbite-tantalite (6 to 13).Trace elements that may be present in significant concentrations in wodginite-ixiolite include Li (up to 0.9 wt.% in lithiowodginite, up to 1100 ppm in ordinary wodginite-ixiolite; Md, 27 ppm), Mg (up to 2200 ppm; Md, 24 ppm), Sc (up to 1.7 wt.%; Md, 22 ppm), Th (up to 825 ppm; Md, 12 ppm), U (up to 6743 ppm; Md, 633 ppm), As (up to 1200 ppm), Sb (up to 300 ppm) and Bi (up to 3200 ppm) (Supplementary material S4, Fig. 16b). Scandian ixiolite containing between 4 and 19 wt.% Sc2O3 has been reported from Madagascar, Mozambique, Norway, Maine and the Czech Republic (Wise et al., 1998). The absolute concentrations and chondrite-normalised patterns of the REE and Y are similar in size and shape to those in coexisting CGM, and REE concentrations are higher than in tapiolite (Fig. 16b,c).Trace elements that may be present in significant concentrations in wodginite-ixiolite include Li (up to 0.9 wt.% in lithiowodginite, up to 1100 ppm in ordinary wodginite-ixiolite; Md, 27 ppm), Mg (up to 2200 ppm; Md, 24 ppm), Sc (up to 1.7 wt.%; Md, 22 ppm), Th (up to 825 ppm; Md, 12 ppm), U (up to 6743 ppm; Md, 633 ppm), As (up to 1200 ppm), Sb (up to 300 ppm) and Bi (up to 3200 ppm) (Supplementary material S4, Fig. 16b). Scandian ixiolite containing between 4 and 19 wt.% Sc2O3 has been reported from Madagascar, Mozambique, Norway, Maine and the Czech Republic (Wise et al., 1998). The absolute concentrations and chondrite-normalised patterns of the REE and Y are similar in size and shape to those in coexisting CGM, and REE concentrations are higher than in tapiolite (Fig. 16b,c).The rutile structure of tapiolite [FeTa2O6] allows accommodation of tetravalent elements, such as Sn, Ti, Zr and Hf (Ercit, 2010). More than 1300 analyses of tapiolite from 19 provinces, including 500 datasets from LA-ICP-MS, were evaluated. Compared to CGM, tapiolite has a rather invariable major element composition close to [FeTa2O6]. The major elements range from 9.3-16.5 wt.% for FeO, < 3.8 wt.% for MnO, < 14 wt.% for Nb2O5 and 61-88 wt.% for Ta2O5 in our data set. The maximum #Mn value is close to 25, and the lowest #Ta is close to 74. Maximum and median concentrations of the minor elements are: TiO2 (12.7 wt.%, 0.80 wt.%); SnO2 (5.4 wt.%, 0.18 wt.%); WO3 (1.1 wt.%, 0.01 wt.%), respectively (Supplementary material S5). Trace elements that are frequently detected by LA-ICP-MS include (in ppm; minimum - maximum; median): Li (< 1-140; 4.6); Mg (< 1-4500; 189); Sc (< 1-1100; 2.2); Y (< 1-180; 0.05); Zr (23-16,500; 902); Hf (12-4000; 416); U (1-4500; 187); Pb (1-900; 29), respectively (Fig. 16c). Concentration levels of Zr are similar to those in coexisting CGM, but Hf concentrations are higher, and Zr/Hf values are lower than in CGM; they range from 1.6 to 2.5 in a number of provinces, whereas coexisting CGM have more variable, and higher Zr/Hf. Our data corroborate the deductions of Novak et al. (2004) that tapiolite does not accommodate significant amounts of trivalent cations (Al, As, Sb, Bi, and REE). The REE concentrations are below the detection limits in > 75% of the measured values of a given element. If REE are detected, chondrite-normalised patterns of tapiolite resemble those of coexisting CGM in shape, but are of lower magnitude (Figs. 7, 10, 13).The rutile structure of tapiolite [FeTa2O6] allows accommodation of tetravalent elements, such as Sn, Ti, Zr and Hf (Ercit, 2010). More than 1300 analyses of tapiolite from 19 provinces, including 500 datasets from LA-ICP-MS, were evaluated. Compared to CGM, tapiolite has a rather invariable major element composition close to [FeTa2O6]. The major elements range from 9.3-16.5 wt.% for FeO, < 3.8 wt.% for MnO, < 14 wt.% for Nb2O5 and 61-88 wt.% for Ta2O5 in our data set. The maximum #Mn value is close to 25, and the lowest #Ta is close to 74. Maximum and median concentrations of the minor elements are: TiO2 (12.7 wt.%, 0.80 wt.%); SnO2 (5.4 wt.%, 0.18 wt.%); WO3 (1.1 wt.%, 0.01 wt.%), respectively (Supplementary material S5). Trace elements that are frequently detected by LA-ICP-MS include (in ppm; minimum - maximum; median): Li (< 1-140; 4.6); Mg (< 1-4500; 189); Sc (< 1-1100; 2.2); Y (< 1-180; 0.05); Zr (23-16,500; 902); Hf (12-4000; 416); U (1-4500; 187); Pb (1-900; 29), respectively (Fig. 16c). Concentration levels of Zr are similar to those in coexisting CGM, but Hf concentrations are higher, and Zr/Hf values are lower than in CGM; they range from 1.6 to 2.5 in a number of provinces, whereas coexisting CGM have more variable, and higher Zr/Hf. Our data corroborate the deductions of Novak et al. (2004) that tapiolite does not accommodate significant amounts of trivalent cations (Al, As, Sb, Bi, and REE). The REE concentrations are below the detection limits in > 75% of the measured values of a given element. If REE are detected, chondrite-normalised patterns of tapiolite resemble those of coexisting CGM in shape, but are of lower magnitude (Figs. 7, 10, 13).Incorporation of trace elements in Ta-Nb-oxides occurs in a systematic fashion. Following Fig. 16, some \"rules\" may be established if cogenetic phases are considered: (i) wodginite/ixiolite carries higher concentrations of Li, Zr, Hf, Sn, and in some cases also Ti, Sb, Bi than CGM and tapiolite; (ii) CGM host higher concentrations of all trace elements except Hf (in some cases also of Zr, Ti, Sn, Sb) compared to tapiolite. However, it has to be taken into account that detailed analytical work on cogenetic phases is needed to fully explore this issue.The trace element patterns of Ta-Nb-oxides reflect regional geochemical peculiarities including source characteristics. This is demonstrated in spider diagrams of trace elements normalised to the median composition of CGM (Figs. 6, 9, 12). The normalised median, P25 and P75 values of CGM, tapiolite and wodginite-ixiolite from rare metal pegmatite provinces indicate common features to all of these mineral groups, suggesting most of them are cogenetic and they reflect certain source characteristics.']"
      ]
     },
     "execution_count": 42,
     "metadata": {},
     "output_type": "execute_result"
    }
   ],
   "source": [
    "df['paragraphs'][2][1]"
   ]
  },
  {
   "cell_type": "code",
   "execution_count": null,
   "metadata": {},
   "outputs": [],
   "source": []
  },
  {
   "cell_type": "code",
   "execution_count": null,
   "metadata": {},
   "outputs": [],
   "source": []
  }
 ],
 "metadata": {
  "kernelspec": {
   "display_name": "llamat",
   "language": "python",
   "name": "python3"
  },
  "language_info": {
   "codemirror_mode": {
    "name": "ipython",
    "version": 3
   },
   "file_extension": ".py",
   "mimetype": "text/x-python",
   "name": "python",
   "nbconvert_exporter": "python",
   "pygments_lexer": "ipython3",
   "version": "3.9.18"
  },
  "orig_nbformat": 4
 },
 "nbformat": 4,
 "nbformat_minor": 2
}
