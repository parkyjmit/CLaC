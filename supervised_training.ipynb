{
 "cells": [
  {
   "cell_type": "code",
   "execution_count": 95,
   "metadata": {},
   "outputs": [],
   "source": [
    "from data.datamodule import GraphSupervisedDataModule\n",
    "from model.graph_encoder import CGCNN, PaiNN\n",
    "from model.clamp import CLaMPLite\n",
    "import torch\n",
    "from torch import nn\n",
    "from torch.nn import functional as F\n",
    "from pytorch_lightning import Trainer\n",
    "import pytorch_lightning as pl\n",
    "from typing import Any, Dict, List, Mapping\n",
    "from pytorch_lightning.callbacks import LearningRateMonitor, EarlyStopping, ModelCheckpoint\n",
    "\n"
   ]
  },
  {
   "attachments": {},
   "cell_type": "markdown",
   "metadata": {},
   "source": [
    "# Load datamodule"
   ]
  },
  {
   "cell_type": "code",
   "execution_count": 96,
   "metadata": {},
   "outputs": [],
   "source": [
    "dm = GraphSupervisedDataModule(\n",
    "    data_path=\"/home/yj/PycharmProjects/MIT/CLaMP/dft_3d_2021_data\",\n",
    "    batch_size=64,\n",
    "    num_workers=4,\n",
    "    tokenizer_model='bert-base-uncased',\n",
    "    label='optb88vdw_total_energy',\n",
    "    task='regression',\n",
    ")\n",
    "dm.setup()\n",
    "dm.num_classes = 1"
   ]
  },
  {
   "attachments": {},
   "cell_type": "markdown",
   "metadata": {},
   "source": [
    "# Load Model"
   ]
  },
  {
   "cell_type": "code",
   "execution_count": 97,
   "metadata": {},
   "outputs": [],
   "source": [
    "# # Instantiate the encoders and tokenizers\n",
    "# if self.hparams.fine_tune_from is not None:\n",
    "#     if self.hparams.base_model_type == 'clamp':\n",
    "#         model = CLaMPLite.load_from_checkpoint(self.hparams.fine_tune_from, map_location={'cuda:0': 'cpu'})\n",
    "#     elif self.hparams.base_model_type == 'ssl':\n",
    "#         model = GNNSSL.load_from_checkpoint(self.hparams.fine_tune_from, map_location={'cuda:0': 'cpu'})\n",
    "#     self.graph_encoder = model.graph_encoder\n",
    "# else:\n",
    "#     self.graph_encoder = hydra.utils.instantiate(self.hparams.graph_encoder, _recursive_=False)\n",
    "\n",
    "class GraphSupervisedLearning(pl.LightningModule):\n",
    "    def __init__(self, graph_encoder, task, num_classes, learning_rate, *args, **kwargs) -> None:\n",
    "        super().__init__(*args, **kwargs)\n",
    "        self.graph_encoder = graph_encoder  # CGCNN or PaiNN\n",
    "        self.projection_head = nn.Sequential(\n",
    "            nn.Linear(512, 256),\n",
    "            nn.ReLU(),\n",
    "            nn.BatchNorm1d(256),\n",
    "            nn.Linear(256, 128),\n",
    "            nn.ReLU(),\n",
    "            nn.BatchNorm1d(128),\n",
    "            nn.Linear(128, num_classes),\n",
    "        )\n",
    "\n",
    "        self.validation_step_outputs = []\n",
    "        self.test_step_outputs = []\n",
    "        self.task = task\n",
    "        self.learning_rate = learning_rate\n",
    "\n",
    "    def on_before_batch_transfer(self, batch: Any, dataloader_idx: int) -> Any:\n",
    "        graphs = batch\n",
    "        return graphs, graphs.y\n",
    "    \n",
    "    def forward(self, inputs):\n",
    "        '''\n",
    "        graph_logits: (batch_size, graph_encoder_dim)\n",
    "        '''\n",
    "        return self.projection_head(self.graph_encoder(inputs))\n",
    "        \n",
    "    def supervised_loss(self, y_pred, label, mode):\n",
    "        if self.task == 'classification':\n",
    "            loss = F.cross_entropy(y_pred, label)\n",
    "        elif self.task == 'regression':\n",
    "            loss = F.mse_loss(y_pred.squeeze(), label.squeeze())\n",
    "        self.log(mode + \"_loss\", loss, prog_bar=False, on_step=True, on_epoch=True, batch_size=y_pred.shape[0], sync_dist=True)\n",
    "        return loss\n",
    "\n",
    "    def training_step(self, batch, batch_idx):\n",
    "        graph, y = batch\n",
    "        y_pred = self(graph)\n",
    "        loss = self.supervised_loss(y_pred, y, 'train')\n",
    "        return loss\n",
    "    \n",
    "    def validation_step(self, batch, batch_idx):\n",
    "        graph, y = batch\n",
    "        y_pred = self(graph)\n",
    "        loss = self.supervised_loss(y_pred, y, 'val')\n",
    "        if self.task == 'classification':\n",
    "            predicted_labels = torch.argmax(y_pred, dim=1)\n",
    "            correct = (predicted_labels == y).sum().item()\n",
    "            loss_dict = {'val_loss': loss, 'correct_count': correct, 'total_count': len(y)}\n",
    "        elif self.task == 'regression':\n",
    "            loss_dict = {'val_loss': loss, 'total_count': len(y)}\n",
    "        self.validation_step_outputs.append(loss_dict)\n",
    "        return loss_dict\n",
    "        \n",
    "    def on_validation_epoch_end(self):\n",
    "        outputs = self.validation_step_outputs\n",
    "        avg_loss = torch.stack([x['val_loss'] for x in outputs]).mean()\n",
    "        self.log('val_loss', avg_loss, prog_bar=True, on_epoch=True)\n",
    "        if self.task == 'classification':\n",
    "            total_correct = sum(x['correct_count'] for x in outputs)\n",
    "            total_count = sum(x['total_count'] for x in outputs)\n",
    "            accuracy = total_correct / total_count\n",
    "            self.log('val_acc', accuracy, prog_bar=True)\n",
    "        self.validation_step_outputs = []\n",
    "    \n",
    "    def test_step(self, batch, batch_idx):\n",
    "        graph, y = batch\n",
    "        y_pred = self(graph)\n",
    "        loss = self.supervised_loss(y_pred, y, 'test')\n",
    "        if self.task == 'classification':\n",
    "            predicted_labels = torch.argmax(y_pred, dim=1)\n",
    "            correct = (predicted_labels == y).sum().item()\n",
    "            loss_dict = {'test_loss': loss, 'correct_count': correct, 'total_count': len(y)}\n",
    "        elif self.task == 'regression':\n",
    "            loss_dict = {'test_loss': loss, 'total_count': len(y)}\n",
    "        self.test_step_outputs.append(loss_dict)\n",
    "        return loss_dict\n",
    "        \n",
    "    def on_test_epoch_end(self):\n",
    "        outputs = self.test_step_outputs\n",
    "        avg_loss = torch.stack([x['test_loss'] for x in outputs]).mean()\n",
    "        self.log('test_loss', avg_loss)\n",
    "        if self.task == 'classification':\n",
    "            total_correct = sum(x['correct_count'] for x in outputs)\n",
    "            total_count = sum(x['total_count'] for x in outputs)\n",
    "            accuracy = total_correct / total_count\n",
    "            self.log('test_acc', accuracy)\n",
    "        self.test_step_outputs = []\n",
    "    \n",
    "    def configure_optimizers(self):\n",
    "        # adamw optimizer\n",
    "        opt = torch.optim.AdamW(\n",
    "            self.parameters(),\n",
    "            lr=self.learning_rate,\n",
    "            weight_decay=0,\n",
    "        )\n",
    "        # reduce lr on plateau\n",
    "        scheduler = torch.optim.lr_scheduler.ReduceLROnPlateau(\n",
    "            opt,\n",
    "            mode=\"min\",\n",
    "            factor=0.5,\n",
    "            patience=10,\n",
    "            verbose=True,\n",
    "        )\n",
    "        return {\"optimizer\": opt, \"lr_scheduler\": scheduler, \"monitor\": \"val_loss\"}\n",
    "\n",
    "    "
   ]
  },
  {
   "cell_type": "code",
   "execution_count": 98,
   "metadata": {},
   "outputs": [],
   "source": [
    "use_pretrained = False\n",
    "\n",
    "if use_pretrained:\n",
    "    model = CLaMPLite.load_from_checkpoint(self.hparams.fine_tune_from, map_location={'cuda:0': 'cpu'})\n",
    "    graph_encoder = model.graph_encoder\n",
    "else:\n",
    "    # graph_encoder=CGCNN(\n",
    "    #     orig_atom_fea_len=92,\n",
    "    #     nbr_fea_len=80,\n",
    "    #     atom_fea_len=512,\n",
    "    #     n_conv=3,\n",
    "    #     h_fea_len=128,\n",
    "    #     n_h=1,\n",
    "    #     out_dim=512,\n",
    "    # )\n",
    "    graph_encoder=PaiNN(\n",
    "        orig_atom_fea_len=92,\n",
    "        num_feat=512,\n",
    "        out_dim=512,\n",
    "        cut_off=5.0,\n",
    "        n_rbf=20,\n",
    "        num_interactions=3,\n",
    "    )"
   ]
  },
  {
   "cell_type": "code",
   "execution_count": 99,
   "metadata": {},
   "outputs": [],
   "source": [
    "model = GraphSupervisedLearning(\n",
    "    graph_encoder=graph_encoder,\n",
    "    task = dm.task,\n",
    "    num_classes=dm.num_classes,\n",
    "    learning_rate=3e-4\n",
    ")"
   ]
  },
  {
   "attachments": {},
   "cell_type": "markdown",
   "metadata": {},
   "source": [
    "# Training configurations"
   ]
  },
  {
   "cell_type": "code",
   "execution_count": 100,
   "metadata": {},
   "outputs": [
    {
     "name": "stderr",
     "output_type": "stream",
     "text": [
      "GPU available: True (cuda), used: True\n",
      "TPU available: False, using: 0 TPU cores\n",
      "IPU available: False, using: 0 IPUs\n",
      "HPU available: False, using: 0 HPUs\n"
     ]
    },
    {
     "name": "stderr",
     "output_type": "stream",
     "text": [
      "LOCAL_RANK: 0 - CUDA_VISIBLE_DEVICES: [0,1,2,3]\n",
      "\n",
      "  | Name            | Type       | Params\n",
      "-----------------------------------------------\n",
      "0 | graph_encoder   | PaiNN      | 9.3 M \n",
      "1 | projection_head | Sequential | 165 K \n",
      "-----------------------------------------------\n",
      "9.5 M     Trainable params\n",
      "0         Non-trainable params\n",
      "9.5 M     Total params\n",
      "37.991    Total estimated model params size (MB)\n"
     ]
    },
    {
     "data": {
      "application/vnd.jupyter.widget-view+json": {
       "model_id": "4106dfa143d34b80aaf4f4e1f5f454b7",
       "version_major": 2,
       "version_minor": 0
      },
      "text/plain": [
       "Sanity Checking: 0it [00:00, ?it/s]"
      ]
     },
     "metadata": {},
     "output_type": "display_data"
    },
    {
     "data": {
      "application/vnd.jupyter.widget-view+json": {
       "model_id": "7fb05e44a71444aabc64c79515b9d0ea",
       "version_major": 2,
       "version_minor": 0
      },
      "text/plain": [
       "Training: 0it [00:00, ?it/s]"
      ]
     },
     "metadata": {},
     "output_type": "display_data"
    },
    {
     "data": {
      "application/vnd.jupyter.widget-view+json": {
       "model_id": "12fe34ed32e44573989478335e3aa7e3",
       "version_major": 2,
       "version_minor": 0
      },
      "text/plain": [
       "Validation: 0it [00:00, ?it/s]"
      ]
     },
     "metadata": {},
     "output_type": "display_data"
    },
    {
     "name": "stderr",
     "output_type": "stream",
     "text": [
      "Metric val_loss improved. New best score: 2.293\n"
     ]
    },
    {
     "data": {
      "application/vnd.jupyter.widget-view+json": {
       "model_id": "9e5ee7f05a454e98a5bd12fe65597aeb",
       "version_major": 2,
       "version_minor": 0
      },
      "text/plain": [
       "Validation: 0it [00:00, ?it/s]"
      ]
     },
     "metadata": {},
     "output_type": "display_data"
    },
    {
     "name": "stderr",
     "output_type": "stream",
     "text": [
      "Metric val_loss improved by 0.626 >= min_delta = 0.0. New best score: 1.667\n"
     ]
    },
    {
     "data": {
      "application/vnd.jupyter.widget-view+json": {
       "model_id": "f305485734f349f08659ff157f64a563",
       "version_major": 2,
       "version_minor": 0
      },
      "text/plain": [
       "Validation: 0it [00:00, ?it/s]"
      ]
     },
     "metadata": {},
     "output_type": "display_data"
    },
    {
     "name": "stderr",
     "output_type": "stream",
     "text": [
      "Metric val_loss improved by 0.552 >= min_delta = 0.0. New best score: 1.114\n"
     ]
    },
    {
     "data": {
      "application/vnd.jupyter.widget-view+json": {
       "model_id": "1297d3730a55438ab56f3c6dd669c081",
       "version_major": 2,
       "version_minor": 0
      },
      "text/plain": [
       "Validation: 0it [00:00, ?it/s]"
      ]
     },
     "metadata": {},
     "output_type": "display_data"
    },
    {
     "name": "stderr",
     "output_type": "stream",
     "text": [
      "Metric val_loss improved by 0.209 >= min_delta = 0.0. New best score: 0.905\n"
     ]
    },
    {
     "data": {
      "application/vnd.jupyter.widget-view+json": {
       "model_id": "11be77fd118b4635bb283911c25ac891",
       "version_major": 2,
       "version_minor": 0
      },
      "text/plain": [
       "Validation: 0it [00:00, ?it/s]"
      ]
     },
     "metadata": {},
     "output_type": "display_data"
    },
    {
     "data": {
      "application/vnd.jupyter.widget-view+json": {
       "model_id": "e8a2c39a1fba4e608f4d49e1c29891d4",
       "version_major": 2,
       "version_minor": 0
      },
      "text/plain": [
       "Validation: 0it [00:00, ?it/s]"
      ]
     },
     "metadata": {},
     "output_type": "display_data"
    },
    {
     "data": {
      "application/vnd.jupyter.widget-view+json": {
       "model_id": "19e276c70360437c8ee29096e29d85dd",
       "version_major": 2,
       "version_minor": 0
      },
      "text/plain": [
       "Validation: 0it [00:00, ?it/s]"
      ]
     },
     "metadata": {},
     "output_type": "display_data"
    },
    {
     "data": {
      "application/vnd.jupyter.widget-view+json": {
       "model_id": "edec0bdcb39946d898adb9a7ff566f8a",
       "version_major": 2,
       "version_minor": 0
      },
      "text/plain": [
       "Validation: 0it [00:00, ?it/s]"
      ]
     },
     "metadata": {},
     "output_type": "display_data"
    },
    {
     "name": "stderr",
     "output_type": "stream",
     "text": [
      "Metric val_loss improved by 0.118 >= min_delta = 0.0. New best score: 0.787\n"
     ]
    },
    {
     "data": {
      "application/vnd.jupyter.widget-view+json": {
       "model_id": "eecc8d0ffb144769853ccb49f67b0c96",
       "version_major": 2,
       "version_minor": 0
      },
      "text/plain": [
       "Validation: 0it [00:00, ?it/s]"
      ]
     },
     "metadata": {},
     "output_type": "display_data"
    },
    {
     "name": "stderr",
     "output_type": "stream",
     "text": [
      "Metric val_loss improved by 0.200 >= min_delta = 0.0. New best score: 0.588\n"
     ]
    },
    {
     "data": {
      "application/vnd.jupyter.widget-view+json": {
       "model_id": "27f41364521c4b968478b05d0915af64",
       "version_major": 2,
       "version_minor": 0
      },
      "text/plain": [
       "Validation: 0it [00:00, ?it/s]"
      ]
     },
     "metadata": {},
     "output_type": "display_data"
    },
    {
     "data": {
      "application/vnd.jupyter.widget-view+json": {
       "model_id": "b84c405aa8f94d1bb5ecd97c1fd2fb4e",
       "version_major": 2,
       "version_minor": 0
      },
      "text/plain": [
       "Validation: 0it [00:00, ?it/s]"
      ]
     },
     "metadata": {},
     "output_type": "display_data"
    },
    {
     "data": {
      "application/vnd.jupyter.widget-view+json": {
       "model_id": "2d4f5cb3301b430ba66f5100605a79a1",
       "version_major": 2,
       "version_minor": 0
      },
      "text/plain": [
       "Validation: 0it [00:00, ?it/s]"
      ]
     },
     "metadata": {},
     "output_type": "display_data"
    },
    {
     "data": {
      "application/vnd.jupyter.widget-view+json": {
       "model_id": "d0349b2b703d4671bf6d1d3a62a7e60b",
       "version_major": 2,
       "version_minor": 0
      },
      "text/plain": [
       "Validation: 0it [00:00, ?it/s]"
      ]
     },
     "metadata": {},
     "output_type": "display_data"
    },
    {
     "data": {
      "application/vnd.jupyter.widget-view+json": {
       "model_id": "bb8e8853b37d4156a9050c59dcbe4362",
       "version_major": 2,
       "version_minor": 0
      },
      "text/plain": [
       "Validation: 0it [00:00, ?it/s]"
      ]
     },
     "metadata": {},
     "output_type": "display_data"
    },
    {
     "data": {
      "application/vnd.jupyter.widget-view+json": {
       "model_id": "bff36e476e5e43a2bff1ad2462380792",
       "version_major": 2,
       "version_minor": 0
      },
      "text/plain": [
       "Validation: 0it [00:00, ?it/s]"
      ]
     },
     "metadata": {},
     "output_type": "display_data"
    },
    {
     "data": {
      "application/vnd.jupyter.widget-view+json": {
       "model_id": "5adb186a2b6d4b67a3c6fea5a66b4ce5",
       "version_major": 2,
       "version_minor": 0
      },
      "text/plain": [
       "Validation: 0it [00:00, ?it/s]"
      ]
     },
     "metadata": {},
     "output_type": "display_data"
    },
    {
     "data": {
      "application/vnd.jupyter.widget-view+json": {
       "model_id": "20e12359119048ed8291c5e992e5e423",
       "version_major": 2,
       "version_minor": 0
      },
      "text/plain": [
       "Validation: 0it [00:00, ?it/s]"
      ]
     },
     "metadata": {},
     "output_type": "display_data"
    },
    {
     "data": {
      "application/vnd.jupyter.widget-view+json": {
       "model_id": "5adec6cab17140efb0d0b0e88f8a01ef",
       "version_major": 2,
       "version_minor": 0
      },
      "text/plain": [
       "Validation: 0it [00:00, ?it/s]"
      ]
     },
     "metadata": {},
     "output_type": "display_data"
    },
    {
     "data": {
      "application/vnd.jupyter.widget-view+json": {
       "model_id": "7a45011ba555458abbb537f27ee903fa",
       "version_major": 2,
       "version_minor": 0
      },
      "text/plain": [
       "Validation: 0it [00:00, ?it/s]"
      ]
     },
     "metadata": {},
     "output_type": "display_data"
    },
    {
     "data": {
      "application/vnd.jupyter.widget-view+json": {
       "model_id": "05fd699987334bd1a72f0b43ed65654c",
       "version_major": 2,
       "version_minor": 0
      },
      "text/plain": [
       "Validation: 0it [00:00, ?it/s]"
      ]
     },
     "metadata": {},
     "output_type": "display_data"
    },
    {
     "name": "stdout",
     "output_type": "stream",
     "text": [
      "Epoch 00020: reducing learning rate of group 0 to 1.5000e-04.\n"
     ]
    },
    {
     "data": {
      "application/vnd.jupyter.widget-view+json": {
       "model_id": "be4a51a3a8fc487788278850377afdd5",
       "version_major": 2,
       "version_minor": 0
      },
      "text/plain": [
       "Validation: 0it [00:00, ?it/s]"
      ]
     },
     "metadata": {},
     "output_type": "display_data"
    },
    {
     "data": {
      "application/vnd.jupyter.widget-view+json": {
       "model_id": "6faf2ee6b74b418f87ce95322fae7167",
       "version_major": 2,
       "version_minor": 0
      },
      "text/plain": [
       "Validation: 0it [00:00, ?it/s]"
      ]
     },
     "metadata": {},
     "output_type": "display_data"
    },
    {
     "data": {
      "application/vnd.jupyter.widget-view+json": {
       "model_id": "39e31398a4034d4b84db4392f92102f9",
       "version_major": 2,
       "version_minor": 0
      },
      "text/plain": [
       "Validation: 0it [00:00, ?it/s]"
      ]
     },
     "metadata": {},
     "output_type": "display_data"
    },
    {
     "data": {
      "application/vnd.jupyter.widget-view+json": {
       "model_id": "349ce49be0e341a8a0970712e0aee48b",
       "version_major": 2,
       "version_minor": 0
      },
      "text/plain": [
       "Validation: 0it [00:00, ?it/s]"
      ]
     },
     "metadata": {},
     "output_type": "display_data"
    },
    {
     "data": {
      "application/vnd.jupyter.widget-view+json": {
       "model_id": "dc6862c723a449feab6cba80d00f79b7",
       "version_major": 2,
       "version_minor": 0
      },
      "text/plain": [
       "Validation: 0it [00:00, ?it/s]"
      ]
     },
     "metadata": {},
     "output_type": "display_data"
    },
    {
     "data": {
      "application/vnd.jupyter.widget-view+json": {
       "model_id": "8d73645e0e814490a0b3d0a9a82e9e26",
       "version_major": 2,
       "version_minor": 0
      },
      "text/plain": [
       "Validation: 0it [00:00, ?it/s]"
      ]
     },
     "metadata": {},
     "output_type": "display_data"
    },
    {
     "data": {
      "application/vnd.jupyter.widget-view+json": {
       "model_id": "d7bbd021c47c4ef398d270da87fbf257",
       "version_major": 2,
       "version_minor": 0
      },
      "text/plain": [
       "Validation: 0it [00:00, ?it/s]"
      ]
     },
     "metadata": {},
     "output_type": "display_data"
    },
    {
     "data": {
      "application/vnd.jupyter.widget-view+json": {
       "model_id": "7b4485117ec048e4a861c65805e4e9f2",
       "version_major": 2,
       "version_minor": 0
      },
      "text/plain": [
       "Validation: 0it [00:00, ?it/s]"
      ]
     },
     "metadata": {},
     "output_type": "display_data"
    },
    {
     "data": {
      "application/vnd.jupyter.widget-view+json": {
       "model_id": "83659ae380cd4dc38957760dccc32fc1",
       "version_major": 2,
       "version_minor": 0
      },
      "text/plain": [
       "Validation: 0it [00:00, ?it/s]"
      ]
     },
     "metadata": {},
     "output_type": "display_data"
    },
    {
     "data": {
      "application/vnd.jupyter.widget-view+json": {
       "model_id": "257a81e2889040199de952af753a86da",
       "version_major": 2,
       "version_minor": 0
      },
      "text/plain": [
       "Validation: 0it [00:00, ?it/s]"
      ]
     },
     "metadata": {},
     "output_type": "display_data"
    },
    {
     "data": {
      "application/vnd.jupyter.widget-view+json": {
       "model_id": "4f3d5ce9716b493fb6b25ec2436d28d0",
       "version_major": 2,
       "version_minor": 0
      },
      "text/plain": [
       "Validation: 0it [00:00, ?it/s]"
      ]
     },
     "metadata": {},
     "output_type": "display_data"
    },
    {
     "name": "stdout",
     "output_type": "stream",
     "text": [
      "Epoch 00031: reducing learning rate of group 0 to 7.5000e-05.\n"
     ]
    },
    {
     "data": {
      "application/vnd.jupyter.widget-view+json": {
       "model_id": "365b786151e445898c81f31366c8cfcb",
       "version_major": 2,
       "version_minor": 0
      },
      "text/plain": [
       "Validation: 0it [00:00, ?it/s]"
      ]
     },
     "metadata": {},
     "output_type": "display_data"
    },
    {
     "data": {
      "application/vnd.jupyter.widget-view+json": {
       "model_id": "4c1139f2a2a5490f91bb66bfd8ee726c",
       "version_major": 2,
       "version_minor": 0
      },
      "text/plain": [
       "Validation: 0it [00:00, ?it/s]"
      ]
     },
     "metadata": {},
     "output_type": "display_data"
    },
    {
     "data": {
      "application/vnd.jupyter.widget-view+json": {
       "model_id": "367374f524aa46e0b31ac44dc642e476",
       "version_major": 2,
       "version_minor": 0
      },
      "text/plain": [
       "Validation: 0it [00:00, ?it/s]"
      ]
     },
     "metadata": {},
     "output_type": "display_data"
    },
    {
     "data": {
      "application/vnd.jupyter.widget-view+json": {
       "model_id": "62eee71bf02d4456a86de3db4dd7e092",
       "version_major": 2,
       "version_minor": 0
      },
      "text/plain": [
       "Validation: 0it [00:00, ?it/s]"
      ]
     },
     "metadata": {},
     "output_type": "display_data"
    },
    {
     "data": {
      "application/vnd.jupyter.widget-view+json": {
       "model_id": "7287fdc61b2e453787af8c198140747d",
       "version_major": 2,
       "version_minor": 0
      },
      "text/plain": [
       "Validation: 0it [00:00, ?it/s]"
      ]
     },
     "metadata": {},
     "output_type": "display_data"
    },
    {
     "data": {
      "application/vnd.jupyter.widget-view+json": {
       "model_id": "ddfcca911ae645cc83d60d113c3e5acb",
       "version_major": 2,
       "version_minor": 0
      },
      "text/plain": [
       "Validation: 0it [00:00, ?it/s]"
      ]
     },
     "metadata": {},
     "output_type": "display_data"
    },
    {
     "data": {
      "application/vnd.jupyter.widget-view+json": {
       "model_id": "1840253a32114985aab6801e7030f48d",
       "version_major": 2,
       "version_minor": 0
      },
      "text/plain": [
       "Validation: 0it [00:00, ?it/s]"
      ]
     },
     "metadata": {},
     "output_type": "display_data"
    },
    {
     "data": {
      "application/vnd.jupyter.widget-view+json": {
       "model_id": "0b341084e1b34ddb97907365994ac927",
       "version_major": 2,
       "version_minor": 0
      },
      "text/plain": [
       "Validation: 0it [00:00, ?it/s]"
      ]
     },
     "metadata": {},
     "output_type": "display_data"
    },
    {
     "name": "stderr",
     "output_type": "stream",
     "text": [
      "Monitored metric val_loss did not improve in the last 30 records. Best score: 0.588. Signaling Trainer to stop.\n",
      "LOCAL_RANK: 0 - CUDA_VISIBLE_DEVICES: [0,1,2,3]\n"
     ]
    },
    {
     "data": {
      "application/vnd.jupyter.widget-view+json": {
       "model_id": "b3aaa8bf8c174a849c3aa02674379179",
       "version_major": 2,
       "version_minor": 0
      },
      "text/plain": [
       "Testing: 0it [00:00, ?it/s]"
      ]
     },
     "metadata": {},
     "output_type": "display_data"
    },
    {
     "data": {
      "text/html": [
       "<pre style=\"white-space:pre;overflow-x:auto;line-height:normal;font-family:Menlo,'DejaVu Sans Mono',consolas,'Courier New',monospace\">┏━━━━━━━━━━━━━━━━━━━━━━━━━━━┳━━━━━━━━━━━━━━━━━━━━━━━━━━━┓\n",
       "┃<span style=\"font-weight: bold\">        Test metric        </span>┃<span style=\"font-weight: bold\">       DataLoader 0        </span>┃\n",
       "┡━━━━━━━━━━━━━━━━━━━━━━━━━━━╇━━━━━━━━━━━━━━━━━━━━━━━━━━━┩\n",
       "│<span style=\"color: #008080; text-decoration-color: #008080\">         test_loss         </span>│<span style=\"color: #800080; text-decoration-color: #800080\">     6.21359920501709      </span>│\n",
       "│<span style=\"color: #008080; text-decoration-color: #008080\">      test_loss_epoch      </span>│<span style=\"color: #800080; text-decoration-color: #800080\">    6.2969818115234375     </span>│\n",
       "└───────────────────────────┴───────────────────────────┘\n",
       "</pre>\n"
      ],
      "text/plain": [
       "┏━━━━━━━━━━━━━━━━━━━━━━━━━━━┳━━━━━━━━━━━━━━━━━━━━━━━━━━━┓\n",
       "┃\u001b[1m \u001b[0m\u001b[1m       Test metric       \u001b[0m\u001b[1m \u001b[0m┃\u001b[1m \u001b[0m\u001b[1m      DataLoader 0       \u001b[0m\u001b[1m \u001b[0m┃\n",
       "┡━━━━━━━━━━━━━━━━━━━━━━━━━━━╇━━━━━━━━━━━━━━━━━━━━━━━━━━━┩\n",
       "│\u001b[36m \u001b[0m\u001b[36m        test_loss        \u001b[0m\u001b[36m \u001b[0m│\u001b[35m \u001b[0m\u001b[35m    6.21359920501709     \u001b[0m\u001b[35m \u001b[0m│\n",
       "│\u001b[36m \u001b[0m\u001b[36m     test_loss_epoch     \u001b[0m\u001b[36m \u001b[0m│\u001b[35m \u001b[0m\u001b[35m   6.2969818115234375    \u001b[0m\u001b[35m \u001b[0m│\n",
       "└───────────────────────────┴───────────────────────────┘\n"
      ]
     },
     "metadata": {},
     "output_type": "display_data"
    },
    {
     "data": {
      "text/plain": [
       "[{'test_loss_epoch': 6.2969818115234375, 'test_loss': 6.21359920501709}]"
      ]
     },
     "execution_count": 100,
     "metadata": {},
     "output_type": "execute_result"
    }
   ],
   "source": [
    "def build_callbacks():\n",
    "    callbacks = []\n",
    "\n",
    "    # callbacks.append(\n",
    "    #     LearningRateMonitor(\n",
    "    #         logging_interval=cfg.logging.lr_monitor.logging_interval,\n",
    "    #         log_momentum=cfg.logging.lr_monitor.log_momentum,\n",
    "    #     )\n",
    "    # )\n",
    "\n",
    "    callbacks.append(\n",
    "        EarlyStopping(\n",
    "            monitor='val_loss',\n",
    "            mode='min',\n",
    "            patience=30,\n",
    "            verbose=True,\n",
    "        )\n",
    "    )\n",
    "\n",
    "    callbacks.append(\n",
    "        ModelCheckpoint(\n",
    "            dirpath='supervised_ckpt/jarvis_total_energy',\n",
    "            monitor='val_loss',\n",
    "            mode='min',\n",
    "            save_top_k=1,\n",
    "            verbose=True,\n",
    "        )\n",
    "    )\n",
    "\n",
    "    return callbacks\n",
    "# Trainer loading\n",
    "trainer = pl.Trainer(\n",
    "    # logger=wandb_logger,\n",
    "    callbacks=build_callbacks(),\n",
    "    # default_root_dir=hydra_dir,\n",
    "    accelerator='gpu',\n",
    "    devices=1,\n",
    "    # strategy='ddp_find_unused_parameters_true',\n",
    "    precision='32',\n",
    "    # max_steps=10000,\n",
    "    max_epochs=300,\n",
    "    accumulate_grad_batches=1,\n",
    "    gradient_clip_val=0.0005,\n",
    "    \n",
    ")\n",
    "\n",
    "# Training\n",
    "trainer.fit(model, dm)\n",
    "\n",
    "# Testing\n",
    "trainer.test(model, datamodule=dm)"
   ]
  },
  {
   "attachments": {},
   "cell_type": "markdown",
   "metadata": {},
   "source": [
    "# Plotting"
   ]
  },
  {
   "cell_type": "code",
   "execution_count": 101,
   "metadata": {},
   "outputs": [
    {
     "data": {
      "image/png": "[encoded data removed]",
      "text/plain": [
       "<Figure size 550x500 with 1 Axes>"
      ]
     },
     "metadata": {},
     "output_type": "display_data"
    }
   ],
   "source": [
    "# plot parity plot\n",
    "import matplotlib.pyplot as plt\n",
    "import numpy as np\n",
    "model.eval()\n",
    "model.to('cuda')\n",
    "truths = []\n",
    "preds = []\n",
    "with torch.no_grad():\n",
    "    for graphs in dm.test_dataloader():\n",
    "        graphs = graphs.to('cuda')\n",
    "        y = graphs.y\n",
    "        y_pred = model(graphs)\n",
    "        truths.append(y.cpu().numpy())\n",
    "        preds.append(y_pred.cpu().numpy())\n",
    "        break\n",
    "truths = np.concatenate(truths).tolist()\n",
    "preds = np.concatenate(preds).tolist()\n",
    "\n",
    "plt.figure(figsize=(5.5, 5))\n",
    "plt.scatter(truths, preds)\n",
    "plt.plot([min(truths), max(truths)], [min(truths), max(truths)], c='k', ls='--')\n",
    "plt.xlabel('Ground Truth')\n",
    "plt.ylabel('Prediction')\n",
    "plt.tight_layout()\n",
    "plt.savefig('snumat-painn.png', dpi=300)"
   ]
  },
  {
   "cell_type": "code",
   "execution_count": null,
   "metadata": {},
   "outputs": [],
   "source": []
  }
 ],
 "metadata": {
  "kernelspec": {
   "display_name": "llamat",
   "language": "python",
   "name": "python3"
  },
  "language_info": {
   "codemirror_mode": {
    "name": "ipython",
    "version": 3
   },
   "file_extension": ".py",
   "mimetype": "text/x-python",
   "name": "python",
   "nbconvert_exporter": "python",
   "pygments_lexer": "ipython3",
   "version": "3.9.18"
  },
  "orig_nbformat": 4
 },
 "nbformat": 4,
 "nbformat_minor": 2
}
